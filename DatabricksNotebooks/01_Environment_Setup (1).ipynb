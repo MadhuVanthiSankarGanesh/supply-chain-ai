{
 "cells": [
  {
   "cell_type": "code",
   "execution_count": 0,
   "metadata": {
    "application/vnd.databricks.v1+cell": {
     "cellMetadata": {
      "byteLimit": 2048000,
      "rowLimit": 10000
     },
     "inputWidgets": {},
     "nuid": "686e6103-c847-4e10-aafd-0709ab877efb",
     "showTitle": false,
     "tableResultSettingsMap": {},
     "title": ""
    }
   },
   "outputs": [],
   "source": [
    "dbutils.library.restartPython()"
   ]
  },
  {
   "cell_type": "code",
   "execution_count": 0,
   "metadata": {
    "application/vnd.databricks.v1+cell": {
     "cellMetadata": {
      "byteLimit": 2048000,
      "rowLimit": 10000
     },
     "inputWidgets": {},
     "nuid": "ef13fa2b-6bc2-4b8e-8765-4248ad18a38a",
     "showTitle": false,
     "tableResultSettingsMap": {},
     "title": ""
    }
   },
   "outputs": [
    {
     "output_type": "stream",
     "name": "stdout",
     "output_type": "stream",
     "text": [
      "✅ All libraries imported successfully!\n"
     ]
    }
   ],
   "source": [
    "# Import libraries\n",
    "import os\n",
    "import requests\n",
    "import json\n",
    "import pandas as pd\n",
    "import numpy as np\n",
    "from datetime import datetime, timedelta\n",
    "from pyspark.sql import SparkSession\n",
    "from pyspark.sql.functions import *\n",
    "from pyspark.sql.types import *\n",
    "import mlflow\n",
    "import mlflow.sklearn\n",
    "\n",
    "# LangChain imports\n",
    "from langchain.agents import AgentType, initialize_agent, tool\n",
    "from langchain.schema import SystemMessage\n",
    "from langchain.memory import ConversationBufferWindowMemory\n",
    "from langchain_community.chat_models import ChatOpenAI\n",
    "from langchain_community.llms import HuggingFaceHub\n",
    "\n",
    "# Azure & Geospatial imports\n",
    "try:    from azure.storage.blob import BlobServiceClient\n",
    "except ModuleNotFoundError:\n",
    "    print('Azure Storage Blob module not found. Please install azure-storage-blob package.')\n",
    "\n",
    "from azure.identity import DefaultAzureCredential\n",
    "from geopy.distance import geodesic\n",
    "\n",
    "print(\"✅ All libraries imported successfully!\")"
   ]
  },
  {
   "cell_type": "code",
   "execution_count": 0,
   "metadata": {
    "application/vnd.databricks.v1+cell": {
     "cellMetadata": {
      "byteLimit": 2048000,
      "rowLimit": 10000
     },
     "inputWidgets": {},
     "nuid": "f2970cbe-ba2a-4156-be50-54cd4ac83f37",
     "showTitle": false,
     "tableResultSettingsMap": {},
     "title": ""
    }
   },
   "outputs": [],
   "source": [
    "# Your specific Azure resource configuration\n",
    "AZURE_CONFIG = {\n",
    "    \"resource_group\": \"irish-healthcare-agents-west-europe\",\n",
    "    \"databricks_workspace\": \"irish-healthcare-db\",\n",
    "    \"storage_account\": \"irishhealthdata\",\n",
    "    \"location\": \"westeurope\",\n",
    "    \"container_name\": \"supply-chain-data\"\n",
    "}"
   ]
  },
  {
   "cell_type": "code",
   "execution_count": 0,
   "metadata": {
    "application/vnd.databricks.v1+cell": {
     "cellMetadata": {
      "byteLimit": 2048000,
      "rowLimit": 10000
     },
     "inputWidgets": {},
     "nuid": "2010b363-8d64-43ba-aec8-e1a12c62addf",
     "showTitle": false,
     "tableResultSettingsMap": {},
     "title": ""
    }
   },
   "outputs": [
    {
     "output_type": "stream",
     "name": "stdout",
     "output_type": "stream",
     "text": [
      "\uD83D\uDD27 Azure Environment Configuration:\n   resource_group: irish-healthcare-agents-west-europe\n   databricks_workspace: irish-healthcare-db\n   storage_account: irishhealthdata\n   location: westeurope\n   container_name: supply-chain-data\n"
     ]
    }
   ],
   "source": [
    "API_CONFIG = {\n",
    "    \"gnews_api_key\": \"\",  # Replace with your actual key\n",
    "    \"gdacs_url\": \"https://www.gdacs.org/gdacsapi/api/events/geteventlist/SEARCH\"\n",
    "}\n",
    "\n",
    "print(\"\uD83D\uDD27 Azure Environment Configuration:\")\n",
    "for key, value in AZURE_CONFIG.items():\n",
    "    print(f\"   {key}: {value}\")"
   ]
  },
  {
   "cell_type": "code",
   "execution_count": 0,
   "metadata": {
    "application/vnd.databricks.v1+cell": {
     "cellMetadata": {
      "byteLimit": 2048000,
      "rowLimit": 10000
     },
     "inputWidgets": {},
     "nuid": "754965b1-ea3b-4657-8f66-7024da9dd521",
     "showTitle": false,
     "tableResultSettingsMap": {},
     "title": ""
    }
   },
   "outputs": [
    {
     "output_type": "stream",
     "name": "stdout",
     "output_type": "stream",
     "text": [
      "✅ Container already exists: supply-chain-data\n✅ Azure Storage connection established successfully!\n"
     ]
    }
   ],
   "source": [
    "def initialize_azure_storage():\n",
    "    \"\"\"Initialize connection to your Azure Storage Account\"\"\"\n",
    "    try:\n",
    "        # Using DefaultAzureCredential for authentication\n",
    "        blob_service_client = BlobServiceClient(\n",
    "            account_url=f\"https://{AZURE_CONFIG['storage_account']}.blob.core.windows.net\",\n",
    "            credential=DefaultAzureCredential()\n",
    "        )\n",
    "        \n",
    "        # Create container if it doesn't exist\n",
    "        container_client = blob_service_client.get_container_client(AZURE_CONFIG['container_name'])\n",
    "        try:\n",
    "            container_client.create_container()\n",
    "            print(f\"✅ Created container: {AZURE_CONFIG['container_name']}\")\n",
    "        except:\n",
    "            print(f\"✅ Container already exists: {AZURE_CONFIG['container_name']}\")\n",
    "        \n",
    "        print(\"✅ Azure Storage connection established successfully!\")\n",
    "        return blob_service_client\n",
    "        \n",
    "    except Exception as e:\n",
    "        print(f\"❌ Azure Storage connection failed: {e}\")\n",
    "        return None\n",
    "\n",
    "# Initialize storage\n",
    "storage_client = initialize_azure_storage()"
   ]
  },
  {
   "cell_type": "code",
   "execution_count": 0,
   "metadata": {
    "application/vnd.databricks.v1+cell": {
     "cellMetadata": {
      "byteLimit": 2048000,
      "rowLimit": 10000
     },
     "inputWidgets": {},
     "nuid": "fdd2b2ec-c52d-42cc-9c0a-9fb0a376b248",
     "showTitle": false,
     "tableResultSettingsMap": {},
     "title": ""
    }
   },
   "outputs": [
    {
     "output_type": "stream",
     "name": "stdout",
     "output_type": "stream",
     "text": [
      "✅ Database 'supply_chain_analysis' created\n"
     ]
    }
   ],
   "source": [
    "# Create database\n",
    "spark.sql(\"CREATE DATABASE IF NOT EXISTS supply_chain_analysis\")\n",
    "print(\"✅ Database 'supply_chain_analysis' created\")\n",
    "\n",
    "# COMMAND ----------\n",
    "\n",
    "# Define schemas for supply chain data\n",
    "gdacs_schema = StructType([\n",
    "    StructField(\"event_id\", StringType(), True),\n",
    "    StructField(\"event_type\", StringType(), True),\n",
    "    StructField(\"event_name\", StringType(), True),\n",
    "    StructField(\"latitude\", DoubleType(), True),\n",
    "    StructField(\"longitude\", DoubleType(), True),\n",
    "    StructField(\"severity\", StringType(), True),\n",
    "    StructField(\"country\", StringType(), True),\n",
    "    StructField(\"start_date\", TimestampType(), True),\n",
    "    StructField(\"end_date\", TimestampType(), True),\n",
    "    StructField(\"alert_level\", StringType(), True),\n",
    "    StructField(\"population_affected\", IntegerType(), True),\n",
    "    StructField(\"insert_timestamp\", TimestampType(), True)\n",
    "])\n",
    "\n",
    "news_schema = StructType([\n",
    "    StructField(\"article_id\", StringType(), True),\n",
    "    StructField(\"title\", StringType(), True),\n",
    "    StructField(\"description\", StringType(), True),\n",
    "    StructField(\"content\", StringType(), True),\n",
    "    StructField(\"published_at\", TimestampType(), True),\n",
    "    StructField(\"source\", StringType(), True),\n",
    "    StructField(\"url\", StringType(), True),\n",
    "    StructField(\"keywords\", ArrayType(StringType()), True),\n",
    "    StructField(\"sentiment_score\", DoubleType(), True),\n",
    "    StructField(\"insert_timestamp\", TimestampType(), True)\n",
    "])\n"
   ]
  },
  {
   "cell_type": "code",
   "execution_count": 0,
   "metadata": {
    "application/vnd.databricks.v1+cell": {
     "cellMetadata": {
      "byteLimit": 2048000,
      "rowLimit": 10000
     },
     "inputWidgets": {},
     "nuid": "d5cef5be-87a6-4908-b0d5-cd045f59c2da",
     "showTitle": false,
     "tableResultSettingsMap": {},
     "title": ""
    }
   },
   "outputs": [
    {
     "output_type": "stream",
     "name": "stdout",
     "output_type": "stream",
     "text": [
      "✅ Bronze layer tables created\n"
     ]
    }
   ],
   "source": [
    "# Create bronze layer tables\n",
    "def create_bronze_tables():\n",
    "    \"\"\"Create bronze layer tables for raw data\"\"\"\n",
    "    \n",
    "    # GDACS Alerts Bronze Table\n",
    "    spark.sql(\"\"\"\n",
    "        CREATE TABLE IF NOT EXISTS supply_chain_analysis.bronze_gdacs_alerts (\n",
    "            event_id STRING,\n",
    "            event_type STRING,\n",
    "            event_name STRING,\n",
    "            latitude DOUBLE,\n",
    "            longitude DOUBLE,\n",
    "            severity STRING,\n",
    "            country STRING,\n",
    "            start_date TIMESTAMP,\n",
    "            end_date TIMESTAMP,\n",
    "            alert_level STRING,\n",
    "            population_affected INT,\n",
    "            insert_timestamp TIMESTAMP,\n",
    "            _file_source STRING,\n",
    "            _load_timestamp TIMESTAMP\n",
    "        )\n",
    "        USING DELTA\n",
    "        COMMENT 'Raw GDACS disaster alerts from API'\n",
    "    \"\"\")\n",
    "    \n",
    "    # Supply Chain News Bronze Table\n",
    "    spark.sql(\"\"\"\n",
    "        CREATE TABLE IF NOT EXISTS supply_chain_analysis.bronze_supply_chain_news (\n",
    "            article_id STRING,\n",
    "            title STRING,\n",
    "            description STRING,\n",
    "            content STRING,\n",
    "            published_at TIMESTAMP,\n",
    "            source STRING,\n",
    "            url STRING,\n",
    "            keywords ARRAY<STRING>,\n",
    "            sentiment_score DOUBLE,\n",
    "            insert_timestamp TIMESTAMP,\n",
    "            _file_source STRING,\n",
    "            _load_timestamp TIMESTAMP\n",
    "        )\n",
    "        USING DELTA\n",
    "        COMMENT 'Raw supply chain news from GNews API'\n",
    "    \"\"\")\n",
    "    \n",
    "    print(\"✅ Bronze layer tables created\")\n",
    "\n",
    "create_bronze_tables()"
   ]
  },
  {
   "cell_type": "code",
   "execution_count": 0,
   "metadata": {
    "application/vnd.databricks.v1+cell": {
     "cellMetadata": {
      "byteLimit": 2048000,
      "rowLimit": 10000
     },
     "inputWidgets": {},
     "nuid": "a2aff947-f3de-4c9a-8d8c-347d05a7bf59",
     "showTitle": false,
     "tableResultSettingsMap": {},
     "title": ""
    }
   },
   "outputs": [
    {
     "output_type": "stream",
     "name": "stdout",
     "output_type": "stream",
     "text": [
      "✅ Ports dimension table created with 17 major global ports\n"
     ]
    },
    {
     "output_type": "display_data",
     "data": {
      "text/html": [
       "<style scoped>\n",
       "  .table-result-container {\n",
       "    max-height: 300px;\n",
       "    overflow: auto;\n",
       "  }\n",
       "  table, th, td {\n",
       "    border: 1px solid black;\n",
       "    border-collapse: collapse;\n",
       "  }\n",
       "  th, td {\n",
       "    padding: 5px;\n",
       "  }\n",
       "  th {\n",
       "    text-align: left;\n",
       "  }\n",
       "</style><div class='table-result-container'><table class='table-result'><thead style='background-color: white'><tr><th>port_name</th><th>latitude</th><th>longitude</th><th>country</th><th>port_size</th><th>capacity_rating</th><th>region</th></tr></thead><tbody><tr><td>Shanghai</td><td>31.2304</td><td>121.4737</td><td>China</td><td>Major</td><td>Very High</td><td>Asia</td></tr><tr><td>Singapore</td><td>1.2644</td><td>103.822</td><td>Singapore</td><td>Major</td><td>Very High</td><td>Asia</td></tr><tr><td>Shenzhen</td><td>22.5431</td><td>114.0579</td><td>China</td><td>Major</td><td>High</td><td>Asia</td></tr><tr><td>Ningbo-Zhoushan</td><td>29.8686</td><td>121.5433</td><td>China</td><td>Major</td><td>High</td><td>Asia</td></tr><tr><td>Hong Kong</td><td>22.3193</td><td>114.1694</td><td>China</td><td>Major</td><td>High</td><td>Asia</td></tr><tr><td>Busan</td><td>35.1796</td><td>129.0756</td><td>South Korea</td><td>Major</td><td>High</td><td>Asia</td></tr><tr><td>Qingdao</td><td>36.0671</td><td>120.3826</td><td>China</td><td>Major</td><td>Medium</td><td>Asia</td></tr><tr><td>Rotterdam</td><td>51.9225</td><td>4.47917</td><td>Netherlands</td><td>Major</td><td>High</td><td>Europe</td></tr><tr><td>Antwerp</td><td>51.2291</td><td>4.4053</td><td>Belgium</td><td>Major</td><td>High</td><td>Europe</td></tr><tr><td>Hamburg</td><td>53.5511</td><td>9.9937</td><td>Germany</td><td>Major</td><td>High</td><td>Europe</td></tr><tr><td>Felixstowe</td><td>51.9617</td><td>1.3513</td><td>UK</td><td>Major</td><td>Medium</td><td>Europe</td></tr><tr><td>Valencia</td><td>39.4699</td><td>-0.3763</td><td>Spain</td><td>Major</td><td>Medium</td><td>Europe</td></tr><tr><td>Los Angeles</td><td>33.7175</td><td>-118.2675</td><td>USA</td><td>Major</td><td>High</td><td>North America</td></tr><tr><td>Long Beach</td><td>33.7623</td><td>-118.1954</td><td>USA</td><td>Major</td><td>High</td><td>North America</td></tr><tr><td>New York</td><td>40.6895</td><td>-74.1745</td><td>USA</td><td>Major</td><td>High</td><td>North America</td></tr><tr><td>Savannah</td><td>32.0814</td><td>-81.0914</td><td>USA</td><td>Major</td><td>Medium</td><td>North America</td></tr><tr><td>Vancouver</td><td>49.2827</td><td>-123.1207</td><td>Canada</td><td>Major</td><td>Medium</td><td>North America</td></tr><tr><td>Jebel Ali</td><td>25.0263</td><td>55.0564</td><td>UAE</td><td>Major</td><td>High</td><td>Middle East</td></tr><tr><td>Salalah</td><td>16.9344</td><td>54.0239</td><td>Oman</td><td>Major</td><td>Medium</td><td>Middle East</td></tr></tbody></table></div>"
      ]
     },
     "metadata": {
      "application/vnd.databricks.v1+output": {
       "addedWidgets": {},
       "aggData": [],
       "aggError": "",
       "aggOverflow": false,
       "aggSchema": [],
       "aggSeriesLimitReached": false,
       "aggType": "",
       "arguments": {},
       "columnCustomDisplayInfos": {},
       "data": [
        [
         "Shanghai",
         31.2304,
         121.4737,
         "China",
         "Major",
         "Very High",
         "Asia"
        ],
        [
         "Singapore",
         1.2644,
         103.822,
         "Singapore",
         "Major",
         "Very High",
         "Asia"
        ],
        [
         "Shenzhen",
         22.5431,
         114.0579,
         "China",
         "Major",
         "High",
         "Asia"
        ],
        [
         "Ningbo-Zhoushan",
         29.8686,
         121.5433,
         "China",
         "Major",
         "High",
         "Asia"
        ],
        [
         "Hong Kong",
         22.3193,
         114.1694,
         "China",
         "Major",
         "High",
         "Asia"
        ],
        [
         "Busan",
         35.1796,
         129.0756,
         "South Korea",
         "Major",
         "High",
         "Asia"
        ],
        [
         "Qingdao",
         36.0671,
         120.3826,
         "China",
         "Major",
         "Medium",
         "Asia"
        ],
        [
         "Rotterdam",
         51.9225,
         4.47917,
         "Netherlands",
         "Major",
         "High",
         "Europe"
        ],
        [
         "Antwerp",
         51.2291,
         4.4053,
         "Belgium",
         "Major",
         "High",
         "Europe"
        ],
        [
         "Hamburg",
         53.5511,
         9.9937,
         "Germany",
         "Major",
         "High",
         "Europe"
        ],
        [
         "Felixstowe",
         51.9617,
         1.3513,
         "UK",
         "Major",
         "Medium",
         "Europe"
        ],
        [
         "Valencia",
         39.4699,
         -0.3763,
         "Spain",
         "Major",
         "Medium",
         "Europe"
        ],
        [
         "Los Angeles",
         33.7175,
         -118.2675,
         "USA",
         "Major",
         "High",
         "North America"
        ],
        [
         "Long Beach",
         33.7623,
         -118.1954,
         "USA",
         "Major",
         "High",
         "North America"
        ],
        [
         "New York",
         40.6895,
         -74.1745,
         "USA",
         "Major",
         "High",
         "North America"
        ],
        [
         "Savannah",
         32.0814,
         -81.0914,
         "USA",
         "Major",
         "Medium",
         "North America"
        ],
        [
         "Vancouver",
         49.2827,
         -123.1207,
         "Canada",
         "Major",
         "Medium",
         "North America"
        ],
        [
         "Jebel Ali",
         25.0263,
         55.0564,
         "UAE",
         "Major",
         "High",
         "Middle East"
        ],
        [
         "Salalah",
         16.9344,
         54.0239,
         "Oman",
         "Major",
         "Medium",
         "Middle East"
        ]
       ],
       "datasetInfos": [],
       "dbfsResultPath": null,
       "isJsonSchema": true,
       "metadata": {},
       "overflow": false,
       "plotOptions": {
        "customPlotOptions": {},
        "displayType": "table",
        "pivotAggregation": null,
        "pivotColumns": null,
        "xColumns": null,
        "yColumns": null
       },
       "removedWidgets": [],
       "schema": [
        {
         "metadata": "{}",
         "name": "port_name",
         "type": "\"string\""
        },
        {
         "metadata": "{}",
         "name": "latitude",
         "type": "\"double\""
        },
        {
         "metadata": "{}",
         "name": "longitude",
         "type": "\"double\""
        },
        {
         "metadata": "{}",
         "name": "country",
         "type": "\"string\""
        },
        {
         "metadata": "{}",
         "name": "port_size",
         "type": "\"string\""
        },
        {
         "metadata": "{}",
         "name": "capacity_rating",
         "type": "\"string\""
        },
        {
         "metadata": "{}",
         "name": "region",
         "type": "\"string\""
        }
       ],
       "type": "table"
      }
     },
     "output_type": "display_data"
    }
   ],
   "source": [
    "# Create major ports dimension table\n",
    "ports_data = [\n",
    "    # Asia\n",
    "    (\"Shanghai\", 31.2304, 121.4737, \"China\", \"Major\", \"Very High\", \"Asia\"),\n",
    "    (\"Singapore\", 1.2644, 103.8220, \"Singapore\", \"Major\", \"Very High\", \"Asia\"),\n",
    "    (\"Shenzhen\", 22.5431, 114.0579, \"China\", \"Major\", \"High\", \"Asia\"),\n",
    "    (\"Ningbo-Zhoushan\", 29.8686, 121.5433, \"China\", \"Major\", \"High\", \"Asia\"),\n",
    "    (\"Hong Kong\", 22.3193, 114.1694, \"China\", \"Major\", \"High\", \"Asia\"),\n",
    "    (\"Busan\", 35.1796, 129.0756, \"South Korea\", \"Major\", \"High\", \"Asia\"),\n",
    "    (\"Qingdao\", 36.0671, 120.3826, \"China\", \"Major\", \"Medium\", \"Asia\"),\n",
    "    \n",
    "    # Europe\n",
    "    (\"Rotterdam\", 51.9225, 4.47917, \"Netherlands\", \"Major\", \"High\", \"Europe\"),\n",
    "    (\"Antwerp\", 51.2291, 4.4053, \"Belgium\", \"Major\", \"High\", \"Europe\"),\n",
    "    (\"Hamburg\", 53.5511, 9.9937, \"Germany\", \"Major\", \"High\", \"Europe\"),\n",
    "    (\"Felixstowe\", 51.9617, 1.3513, \"UK\", \"Major\", \"Medium\", \"Europe\"),\n",
    "    (\"Valencia\", 39.4699, -0.3763, \"Spain\", \"Major\", \"Medium\", \"Europe\"),\n",
    "    \n",
    "    # North America\n",
    "    (\"Los Angeles\", 33.7175, -118.2675, \"USA\", \"Major\", \"High\", \"North America\"),\n",
    "    (\"Long Beach\", 33.7623, -118.1954, \"USA\", \"Major\", \"High\", \"North America\"),\n",
    "    (\"New York\", 40.6895, -74.1745, \"USA\", \"Major\", \"High\", \"North America\"),\n",
    "    (\"Savannah\", 32.0814, -81.0914, \"USA\", \"Major\", \"Medium\", \"North America\"),\n",
    "    (\"Vancouver\", 49.2827, -123.1207, \"Canada\", \"Major\", \"Medium\", \"North America\"),\n",
    "    \n",
    "    # Middle East\n",
    "    (\"Jebel Ali\", 25.0263, 55.0564, \"UAE\", \"Major\", \"High\", \"Middle East\"),\n",
    "    (\"Salalah\", 16.9344, 54.0239, \"Oman\", \"Major\", \"Medium\", \"Middle East\")\n",
    "]\n",
    "\n",
    "ports_df = spark.createDataFrame(ports_data, [\n",
    "    \"port_name\", \"latitude\", \"longitude\", \"country\", \n",
    "    \"port_size\", \"capacity_rating\", \"region\"\n",
    "])\n",
    "\n",
    "ports_df.write.mode(\"overwrite\").saveAsTable(\"supply_chain_analysis.dim_ports\")\n",
    "print(\"✅ Ports dimension table created with 17 major global ports\")\n",
    "\n",
    "# Display the ports\n",
    "display(ports_df)"
   ]
  },
  {
   "cell_type": "code",
   "execution_count": 0,
   "metadata": {
    "application/vnd.databricks.v1+cell": {
     "cellMetadata": {
      "byteLimit": 2048000,
      "rowLimit": 10000
     },
     "inputWidgets": {},
     "nuid": "83793836-281e-4c9c-8ce6-9bf9e46224fe",
     "showTitle": false,
     "tableResultSettingsMap": {},
     "title": ""
    }
   },
   "outputs": [
    {
     "output_type": "stream",
     "name": "stderr",
     "output_type": "stream",
     "text": [
      "2025/10/04 18:09:18 INFO mlflow.tracking.fluent: Experiment with name '/Users/u1025325052@gmail.com/supply_chain_risk_prediction' does not exist. Creating a new experiment.\n"
     ]
    },
    {
     "output_type": "stream",
     "name": "stdout",
     "output_type": "stream",
     "text": [
      "✅ MLflow experiment configured: /Users/u1025325052@gmail.com/supply_chain_risk_prediction\n"
     ]
    }
   ],
   "source": [
    "# Set up MLflow experiment\n",
    "experiment_name = \"/Users/{}/supply_chain_risk_prediction\".format(\n",
    "    dbutils.notebook.entry_point.getDbutils().notebook().getContext().userName().get()\n",
    ")\n",
    "\n",
    "mlflow.set_experiment(experiment_name)\n",
    "print(f\"✅ MLflow experiment configured: {experiment_name}\")\n"
   ]
  },
  {
   "cell_type": "code",
   "execution_count": 0,
   "metadata": {
    "application/vnd.databricks.v1+cell": {
     "cellMetadata": {
      "byteLimit": 2048000,
      "rowLimit": 10000
     },
     "inputWidgets": {},
     "nuid": "a402e5b9-fac3-4b7f-a353-87cb47bc4180",
     "showTitle": false,
     "tableResultSettingsMap": {},
     "title": ""
    }
   },
   "outputs": [
    {
     "output_type": "stream",
     "name": "stdout",
     "output_type": "stream",
     "text": [
      "\uD83D\uDD0D Running Environment Validation...\n✅ Test 1: Database accessible\n✅ Test 2: 3 tables exist\n✅ Test 3: MLflow experiment configured\n✅ Test 4: Azure Storage connected\n✅ Test 5: Spark operations working\n\n\uD83C\uDFAF Validation Results: 5/5 tests passed\n\uD83D\uDE80 Environment is READY for data ingestion!\n"
     ]
    }
   ],
   "source": [
    "def validate_environment():\n",
    "    \"\"\"Validate that all components are working\"\"\"\n",
    "    tests_passed = 0\n",
    "    total_tests = 5\n",
    "    \n",
    "    print(\"\uD83D\uDD0D Running Environment Validation...\")\n",
    "    \n",
    "    # Test 1: Database accessible\n",
    "    try:\n",
    "        spark.sql(\"USE supply_chain_analysis\")\n",
    "        print(\"✅ Test 1: Database accessible\")\n",
    "        tests_passed += 1\n",
    "    except:\n",
    "        print(\"❌ Test 1: Database not accessible\")\n",
    "    \n",
    "    # Test 2: Tables exist\n",
    "    try:\n",
    "        tables = spark.sql(\"SHOW TABLES IN supply_chain_analysis\").collect()\n",
    "        table_count = len(tables)\n",
    "        if table_count >= 3:\n",
    "            print(f\"✅ Test 2: {table_count} tables exist\")\n",
    "            tests_passed += 1\n",
    "        else:\n",
    "            print(f\"❌ Test 2: Only {table_count} tables found\")\n",
    "    except:\n",
    "        print(\"❌ Test 2: Could not list tables\")\n",
    "    \n",
    "    # Test 3: MLflow accessible\n",
    "    try:\n",
    "        experiment = mlflow.get_experiment_by_name(experiment_name)\n",
    "        if experiment:\n",
    "            print(\"✅ Test 3: MLflow experiment configured\")\n",
    "            tests_passed += 1\n",
    "        else:\n",
    "            print(\"❌ Test 3: MLflow experiment not found\")\n",
    "    except:\n",
    "        print(\"❌ Test 3: MLflow test failed\")\n",
    "    \n",
    "    # Test 4: Storage connection\n",
    "    if storage_client:\n",
    "        print(\"✅ Test 4: Azure Storage connected\")\n",
    "        tests_passed += 1\n",
    "    else:\n",
    "        print(\"❌ Test 4: Azure Storage connection failed\")\n",
    "    \n",
    "    # Test 5: Spark operations\n",
    "    try:\n",
    "        test_df = spark.range(100)\n",
    "        if test_df.count() == 100:\n",
    "            print(\"✅ Test 5: Spark operations working\")\n",
    "            tests_passed += 1\n",
    "        else:\n",
    "            print(\"❌ Test 5: Spark operations failing\")\n",
    "    except:\n",
    "        print(\"❌ Test 5: Spark test failed\")\n",
    "    \n",
    "    # Summary\n",
    "    print(f\"\\n\uD83C\uDFAF Validation Results: {tests_passed}/{total_tests} tests passed\")\n",
    "    \n",
    "    if tests_passed == total_tests:\n",
    "        print(\"\uD83D\uDE80 Environment is READY for data ingestion!\")\n",
    "        return True\n",
    "    else:\n",
    "        print(\"⚠️  Some components need attention\")\n",
    "        return False\n",
    "\n",
    "# Run validation\n",
    "environment_ready = validate_environment()"
   ]
  },
  {
   "cell_type": "code",
   "execution_count": 0,
   "metadata": {
    "application/vnd.databricks.v1+cell": {
     "cellMetadata": {
      "byteLimit": 2048000,
      "rowLimit": 10000
     },
     "inputWidgets": {},
     "nuid": "1ff05c02-315a-4765-96df-c08317dcd79a",
     "showTitle": false,
     "tableResultSettingsMap": {},
     "title": ""
    }
   },
   "outputs": [
    {
     "output_type": "stream",
     "name": "stdout",
     "output_type": "stream",
     "text": [
      "✅ Configuration saved to: /dbfs/FileStore/supply_chain/config.json\n"
     ]
    }
   ],
   "source": [
    "# Save configuration to DBFS for other notebooks\n",
    "config_path = \"/dbfs/FileStore/supply_chain/config.json\"\n",
    "os.makedirs(os.path.dirname(config_path), exist_ok=True)\n",
    "\n",
    "# PROPER configuration structure with ACTUAL values\n",
    "config_data = {\n",
    "    \"azure_config\": AZURE_CONFIG,\n",
    "    \"api_config\": API_CONFIG,  # This contains the actual values\n",
    "    \"environment_ready\": environment_ready,\n",
    "    \"setup_timestamp\": datetime.now().isoformat(),\n",
    "    \"ports_count\": ports_df.count(),\n",
    "    \"mlflow_experiment\": experiment_name,\n",
    "    \"databricks_runtime\": \"13.3 LTS\"\n",
    "}\n",
    "\n",
    "print(\"\uD83D\uDCBE Saving configuration with ACTUAL values:\")\n",
    "print(f\"   • GNews API Key in config: {'✅ PRESENT' if 'gnews_api_key' in config_data['api_config'] else '❌ MISSING'}\")\n",
    "print(f\"   • GNews API Key value: {config_data['api_config']['gnews_api_key'][:10]}...\")\n",
    "print(f\"   • GDACS URL: {config_data['api_config']['gdacs_url']}\")\n",
    "\n",
    "with open(config_path, \"w\") as f:\n",
    "    json.dump(config_data, f, indent=2)\n",
    "\n",
    "print(f\"✅ Configuration saved to: {config_path}\")\n",
    "\n",
    "# Verify the saved configuration\n",
    "print(\"\\n\uD83D\uDD0D VERIFYING SAVED CONFIGURATION:\")\n",
    "with open(config_path, \"r\") as f:\n",
    "    saved_config = json.load(f)\n",
    "    print(f\"   • GNews API Key saved: {saved_config['api_config']['gnews_api_key'][:10]}...\")\n",
    "    print(f\"   • GDACS URL saved: {saved_config['api_config']['gdacs_url']}\")"
   ]
  },
  {
   "cell_type": "code",
   "execution_count": 0,
   "metadata": {
    "application/vnd.databricks.v1+cell": {
     "cellMetadata": {
      "byteLimit": 2048000,
      "rowLimit": 10000
     },
     "inputWidgets": {},
     "nuid": "b1845def-b3e0-41b1-abc4-c9c52591d238",
     "showTitle": false,
     "tableResultSettingsMap": {},
     "title": ""
    }
   },
   "outputs": [
    {
     "output_type": "stream",
     "name": "stdout",
     "output_type": "stream",
     "text": [
      "\n    \uD83C\uDF89 ENVIRONMENT SETUP COMPLETE!\n    \n    Next steps:\n    1. ✅ Replace GNews API key in the configuration\n    2. ➡️ Proceed to Notebook 2: Data Ingestion Pipeline\n    3. \uD83D\uDD27 Configure Azure OpenAI (optional for now)\n    \n    Your Azure Resources:\n    • Resource Group: irish-healthcare-agents-west-europe\n    • Databricks: irish-healthcare-db\n    • Storage: irishhealthdata\n    • Location: West Europe\n    \n"
     ]
    }
   ],
   "source": [
    "if environment_ready:\n",
    "    print(\"\"\"\n",
    "    \uD83C\uDF89 ENVIRONMENT SETUP COMPLETE!\n",
    "    \n",
    "    Next steps:\n",
    "    1. ✅ Replace GNews API key in the configuration\n",
    "    2. ➡️ Proceed to Notebook 2: Data Ingestion Pipeline\n",
    "    3. \uD83D\uDD27 Configure Azure OpenAI (optional for now)\n",
    "    \n",
    "    Your Azure Resources:\n",
    "    • Resource Group: irish-healthcare-agents-west-europe\n",
    "    • Databricks: irish-healthcare-db\n",
    "    • Storage: irishhealthdata\n",
    "    • Location: West Europe\n",
    "    \"\"\")\n",
    "else:\n",
    "    print(\"\"\"\n",
    "    ⚠️  ENVIRONMENT NEEDS ATTENTION\n",
    "    \n",
    "    Please check:\n",
    "    1. \uD83D\uDD11 Azure authentication permissions\n",
    "    2. \uD83D\uDCCA Database connectivity\n",
    "    3. \uD83D\uDD27 Storage account access\n",
    "    \"\"\")"
   ]
  },
  {
   "cell_type": "code",
   "execution_count": 0,
   "metadata": {
    "application/vnd.databricks.v1+cell": {
     "cellMetadata": {
      "byteLimit": 2048000,
      "rowLimit": 10000
     },
     "inputWidgets": {},
     "nuid": "0f0c07f3-a802-451e-a18e-200e0b209186",
     "showTitle": false,
     "tableResultSettingsMap": {},
     "title": ""
    }
   },
   "outputs": [
    {
     "output_type": "stream",
     "name": "stdout",
     "output_type": "stream",
     "text": [
      "\uD83D\uDD27 CURRENT CONFIGURATION STATUS:\n   Storage Account: irishhealthdata ✅\n   Database: supply_chain_analysis ✅\n   MLflow Experiment: /Users/u1025325052@gmail.com/supply_chain_risk_prediction ✅\n   GNews API Key: ✅ CONFIGURED\n"
     ]
    },
    {
     "output_type": "display_data",
     "data": {
      "text/plain": [
       "\u001B[0;31m---------------------------------------------------------------------------\u001B[0m\n",
       "\u001B[0;31mKeyError\u001B[0m                                  Traceback (most recent call last)\n",
       "File \u001B[0;32m<command-8878759409946456>, line 7\u001B[0m\n",
       "\u001B[1;32m      5\u001B[0m \u001B[38;5;28mprint\u001B[39m(\u001B[38;5;124mf\u001B[39m\u001B[38;5;124m\"\u001B[39m\u001B[38;5;124m   MLflow Experiment: \u001B[39m\u001B[38;5;132;01m{\u001B[39;00mexperiment_name\u001B[38;5;132;01m}\u001B[39;00m\u001B[38;5;124m ✅\u001B[39m\u001B[38;5;124m\"\u001B[39m)\n",
       "\u001B[1;32m      6\u001B[0m \u001B[38;5;28mprint\u001B[39m(\u001B[38;5;124mf\u001B[39m\u001B[38;5;124m\"\u001B[39m\u001B[38;5;124m   GNews API Key: \u001B[39m\u001B[38;5;132;01m{\u001B[39;00m\u001B[38;5;124m'\u001B[39m\u001B[38;5;124m❌ NEEDS CONFIGURATION\u001B[39m\u001B[38;5;124m'\u001B[39m \u001B[38;5;28;01mif\u001B[39;00m API_CONFIG[\u001B[38;5;124m'\u001B[39m\u001B[38;5;124mgnews_api_key\u001B[39m\u001B[38;5;124m'\u001B[39m] \u001B[38;5;241m==\u001B[39m \u001B[38;5;124m'\u001B[39m\u001B[38;5;124mYOUR_GNEWS_API_KEY_HERE\u001B[39m\u001B[38;5;124m'\u001B[39m \u001B[38;5;28;01melse\u001B[39;00m \u001B[38;5;124m'\u001B[39m\u001B[38;5;124m✅ CONFIGURED\u001B[39m\u001B[38;5;124m'\u001B[39m\u001B[38;5;132;01m}\u001B[39;00m\u001B[38;5;124m\"\u001B[39m)\n",
       "\u001B[0;32m----> 7\u001B[0m \u001B[38;5;28mprint\u001B[39m(\u001B[38;5;124mf\u001B[39m\u001B[38;5;124m\"\u001B[39m\u001B[38;5;124m   Azure OpenAI: \u001B[39m\u001B[38;5;132;01m{\u001B[39;00m\u001B[38;5;124m'\u001B[39m\u001B[38;5;124m⚡ OPTIONAL\u001B[39m\u001B[38;5;124m'\u001B[39m \u001B[38;5;28;01mif\u001B[39;00m API_CONFIG[\u001B[38;5;124m'\u001B[39m\u001B[38;5;124mopenai_api_key\u001B[39m\u001B[38;5;124m'\u001B[39m] \u001B[38;5;241m==\u001B[39m \u001B[38;5;124m'\u001B[39m\u001B[38;5;124mYOUR_AZURE_OPENAI_KEY\u001B[39m\u001B[38;5;124m'\u001B[39m \u001B[38;5;28;01melse\u001B[39;00m \u001B[38;5;124m'\u001B[39m\u001B[38;5;124m✅ CONFIGURED\u001B[39m\u001B[38;5;124m'\u001B[39m\u001B[38;5;132;01m}\u001B[39;00m\u001B[38;5;124m\"\u001B[39m)\n",
       "\n",
       "\u001B[0;31mKeyError\u001B[0m: 'openai_api_key'"
      ]
     },
     "metadata": {
      "application/vnd.databricks.v1+output": {
       "arguments": {},
       "data": "\u001B[0;31m---------------------------------------------------------------------------\u001B[0m\n\u001B[0;31mKeyError\u001B[0m                                  Traceback (most recent call last)\nFile \u001B[0;32m<command-8878759409946456>, line 7\u001B[0m\n\u001B[1;32m      5\u001B[0m \u001B[38;5;28mprint\u001B[39m(\u001B[38;5;124mf\u001B[39m\u001B[38;5;124m\"\u001B[39m\u001B[38;5;124m   MLflow Experiment: \u001B[39m\u001B[38;5;132;01m{\u001B[39;00mexperiment_name\u001B[38;5;132;01m}\u001B[39;00m\u001B[38;5;124m ✅\u001B[39m\u001B[38;5;124m\"\u001B[39m)\n\u001B[1;32m      6\u001B[0m \u001B[38;5;28mprint\u001B[39m(\u001B[38;5;124mf\u001B[39m\u001B[38;5;124m\"\u001B[39m\u001B[38;5;124m   GNews API Key: \u001B[39m\u001B[38;5;132;01m{\u001B[39;00m\u001B[38;5;124m'\u001B[39m\u001B[38;5;124m❌ NEEDS CONFIGURATION\u001B[39m\u001B[38;5;124m'\u001B[39m \u001B[38;5;28;01mif\u001B[39;00m API_CONFIG[\u001B[38;5;124m'\u001B[39m\u001B[38;5;124mgnews_api_key\u001B[39m\u001B[38;5;124m'\u001B[39m] \u001B[38;5;241m==\u001B[39m \u001B[38;5;124m'\u001B[39m\u001B[38;5;124mYOUR_GNEWS_API_KEY_HERE\u001B[39m\u001B[38;5;124m'\u001B[39m \u001B[38;5;28;01melse\u001B[39;00m \u001B[38;5;124m'\u001B[39m\u001B[38;5;124m✅ CONFIGURED\u001B[39m\u001B[38;5;124m'\u001B[39m\u001B[38;5;132;01m}\u001B[39;00m\u001B[38;5;124m\"\u001B[39m)\n\u001B[0;32m----> 7\u001B[0m \u001B[38;5;28mprint\u001B[39m(\u001B[38;5;124mf\u001B[39m\u001B[38;5;124m\"\u001B[39m\u001B[38;5;124m   Azure OpenAI: \u001B[39m\u001B[38;5;132;01m{\u001B[39;00m\u001B[38;5;124m'\u001B[39m\u001B[38;5;124m⚡ OPTIONAL\u001B[39m\u001B[38;5;124m'\u001B[39m \u001B[38;5;28;01mif\u001B[39;00m API_CONFIG[\u001B[38;5;124m'\u001B[39m\u001B[38;5;124mopenai_api_key\u001B[39m\u001B[38;5;124m'\u001B[39m] \u001B[38;5;241m==\u001B[39m \u001B[38;5;124m'\u001B[39m\u001B[38;5;124mYOUR_AZURE_OPENAI_KEY\u001B[39m\u001B[38;5;124m'\u001B[39m \u001B[38;5;28;01melse\u001B[39;00m \u001B[38;5;124m'\u001B[39m\u001B[38;5;124m✅ CONFIGURED\u001B[39m\u001B[38;5;124m'\u001B[39m\u001B[38;5;132;01m}\u001B[39;00m\u001B[38;5;124m\"\u001B[39m)\n\n\u001B[0;31mKeyError\u001B[0m: 'openai_api_key'",
       "errorSummary": "<span class='ansi-red-fg'>KeyError</span>: 'openai_api_key'",
       "errorTraceType": "ansi",
       "metadata": {},
       "type": "ipynbError"
      }
     },
     "output_type": "display_data"
    }
   ],
   "source": [
    "# Display current configuration\n",
    "print(\"\uD83D\uDD27 CURRENT CONFIGURATION STATUS:\")\n",
    "print(f\"   Storage Account: {AZURE_CONFIG['storage_account']} ✅\")\n",
    "print(f\"   Database: supply_chain_analysis ✅\")  \n",
    "print(f\"   MLflow Experiment: {experiment_name} ✅\")\n",
    "print(f\"   GNews API Key: {'❌ NEEDS CONFIGURATION' if API_CONFIG['gnews_api_key'] == 'YOUR_GNEWS_API_KEY_HERE' else '✅ CONFIGURED'}\")\n",
    "#print(f\"   Azure OpenAI: {'⚡ OPTIONAL' if API_CONFIG['openai_api_key'] == 'YOUR_AZURE_OPENAI_KEY' else '✅ CONFIGURED'}\")"
   ]
  },
  {
   "cell_type": "code",
   "execution_count": 0,
   "metadata": {
    "application/vnd.databricks.v1+cell": {
     "cellMetadata": {},
     "inputWidgets": {},
     "nuid": "8d40bd82-bf58-44e5-84b2-6455c8f4b7b5",
     "showTitle": false,
     "tableResultSettingsMap": {},
     "title": ""
    }
   },
   "outputs": [],
   "source": []
  }
 ],
 "metadata": {
  "application/vnd.databricks.v1+notebook": {
   "computePreferences": null,
   "dashboards": [],
   "environmentMetadata": {
    "base_environment": "",
    "environment_version": "3"
   },
   "inputWidgetPreferences": null,
   "language": "python",
   "notebookMetadata": {
    "pythonIndentUnit": 4
   },
   "notebookName": "01_Environment_Setup",
   "widgets": {}
  },
  "language_info": {
   "name": "python"
  }
 },
 "nbformat": 4,
 "nbformat_minor": 0
}