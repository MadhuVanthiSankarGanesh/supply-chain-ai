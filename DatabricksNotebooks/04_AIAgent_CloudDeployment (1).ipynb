{
 "cells": [
  {
   "cell_type": "code",
   "execution_count": 0,
   "metadata": {
    "application/vnd.databricks.v1+cell": {
     "cellMetadata": {
      "byteLimit": 2048000,
      "rowLimit": 10000
     },
     "inputWidgets": {},
     "nuid": "2c75c9f7-90f0-485d-8a67-7835bb251582",
     "showTitle": false,
     "tableResultSettingsMap": {},
     "title": ""
    }
   },
   "outputs": [
    {
     "output_type": "stream",
     "name": "stderr",
     "output_type": "stream",
     "text": [
      "/local_disk0/.ephemeral_nfs/cluster_libraries/python/lib/python3.10/site-packages/pydantic/_internal/_config.py:373: UserWarning: Valid config keys have changed in V2:\n* 'schema_extra' has been renamed to 'json_schema_extra'\n  warnings.warn(message, UserWarning)\n"
     ]
    },
    {
     "output_type": "stream",
     "name": "stdout",
     "output_type": "stream",
     "text": [
      "✅ All libraries imported successfully!\n"
     ]
    },
    {
     "output_type": "stream",
     "name": "stdout",
     "output_type": "stream",
     "text": [
      "\uD83D\uDD27 Azure Environment Configuration:\n   resource_group: irish-healthcare-agents-west-europe\n   databricks_workspace: irish-healthcare-db\n   storage_account: irishhealthdata\n   location: westeurope\n   container_name: supply-chain-data\n"
     ]
    },
    {
     "output_type": "stream",
     "name": "stdout",
     "output_type": "stream",
     "text": [
      "✅ Container already exists: supply-chain-data\n✅ Azure Storage connection established successfully!\n"
     ]
    },
    {
     "output_type": "stream",
     "name": "stdout",
     "output_type": "stream",
     "text": [
      "✅ Database 'supply_chain_analysis' created\n"
     ]
    },
    {
     "output_type": "stream",
     "name": "stdout",
     "output_type": "stream",
     "text": [
      "✅ Bronze layer tables created\n"
     ]
    },
    {
     "output_type": "stream",
     "name": "stdout",
     "output_type": "stream",
     "text": [
      "✅ Ports dimension table created with 17 major global ports\n"
     ]
    },
    {
     "output_type": "display_data",
     "data": {
      "text/html": [
       "<style scoped>\n",
       "  .table-result-container {\n",
       "    max-height: 300px;\n",
       "    overflow: auto;\n",
       "  }\n",
       "  table, th, td {\n",
       "    border: 1px solid black;\n",
       "    border-collapse: collapse;\n",
       "  }\n",
       "  th, td {\n",
       "    padding: 5px;\n",
       "  }\n",
       "  th {\n",
       "    text-align: left;\n",
       "  }\n",
       "</style><div class='table-result-container'><table class='table-result'><thead style='background-color: white'><tr><th>port_name</th><th>latitude</th><th>longitude</th><th>country</th><th>port_size</th><th>capacity_rating</th><th>region</th></tr></thead><tbody><tr><td>Shanghai</td><td>31.2304</td><td>121.4737</td><td>China</td><td>Major</td><td>Very High</td><td>Asia</td></tr><tr><td>Singapore</td><td>1.2644</td><td>103.822</td><td>Singapore</td><td>Major</td><td>Very High</td><td>Asia</td></tr><tr><td>Shenzhen</td><td>22.5431</td><td>114.0579</td><td>China</td><td>Major</td><td>High</td><td>Asia</td></tr><tr><td>Ningbo-Zhoushan</td><td>29.8686</td><td>121.5433</td><td>China</td><td>Major</td><td>High</td><td>Asia</td></tr><tr><td>Hong Kong</td><td>22.3193</td><td>114.1694</td><td>China</td><td>Major</td><td>High</td><td>Asia</td></tr><tr><td>Busan</td><td>35.1796</td><td>129.0756</td><td>South Korea</td><td>Major</td><td>High</td><td>Asia</td></tr><tr><td>Qingdao</td><td>36.0671</td><td>120.3826</td><td>China</td><td>Major</td><td>Medium</td><td>Asia</td></tr><tr><td>Rotterdam</td><td>51.9225</td><td>4.47917</td><td>Netherlands</td><td>Major</td><td>High</td><td>Europe</td></tr><tr><td>Antwerp</td><td>51.2291</td><td>4.4053</td><td>Belgium</td><td>Major</td><td>High</td><td>Europe</td></tr><tr><td>Hamburg</td><td>53.5511</td><td>9.9937</td><td>Germany</td><td>Major</td><td>High</td><td>Europe</td></tr><tr><td>Felixstowe</td><td>51.9617</td><td>1.3513</td><td>UK</td><td>Major</td><td>Medium</td><td>Europe</td></tr><tr><td>Valencia</td><td>39.4699</td><td>-0.3763</td><td>Spain</td><td>Major</td><td>Medium</td><td>Europe</td></tr><tr><td>Los Angeles</td><td>33.7175</td><td>-118.2675</td><td>USA</td><td>Major</td><td>High</td><td>North America</td></tr><tr><td>Long Beach</td><td>33.7623</td><td>-118.1954</td><td>USA</td><td>Major</td><td>High</td><td>North America</td></tr><tr><td>New York</td><td>40.6895</td><td>-74.1745</td><td>USA</td><td>Major</td><td>High</td><td>North America</td></tr><tr><td>Savannah</td><td>32.0814</td><td>-81.0914</td><td>USA</td><td>Major</td><td>Medium</td><td>North America</td></tr><tr><td>Vancouver</td><td>49.2827</td><td>-123.1207</td><td>Canada</td><td>Major</td><td>Medium</td><td>North America</td></tr><tr><td>Jebel Ali</td><td>25.0263</td><td>55.0564</td><td>UAE</td><td>Major</td><td>High</td><td>Middle East</td></tr><tr><td>Salalah</td><td>16.9344</td><td>54.0239</td><td>Oman</td><td>Major</td><td>Medium</td><td>Middle East</td></tr></tbody></table></div>"
      ]
     },
     "metadata": {
      "application/vnd.databricks.v1+output": {
       "addedWidgets": {},
       "aggData": [],
       "aggError": "",
       "aggOverflow": false,
       "aggSchema": [],
       "aggSeriesLimitReached": false,
       "aggType": "",
       "arguments": {},
       "columnCustomDisplayInfos": {},
       "data": [
        [
         "Shanghai",
         31.2304,
         121.4737,
         "China",
         "Major",
         "Very High",
         "Asia"
        ],
        [
         "Singapore",
         1.2644,
         103.822,
         "Singapore",
         "Major",
         "Very High",
         "Asia"
        ],
        [
         "Shenzhen",
         22.5431,
         114.0579,
         "China",
         "Major",
         "High",
         "Asia"
        ],
        [
         "Ningbo-Zhoushan",
         29.8686,
         121.5433,
         "China",
         "Major",
         "High",
         "Asia"
        ],
        [
         "Hong Kong",
         22.3193,
         114.1694,
         "China",
         "Major",
         "High",
         "Asia"
        ],
        [
         "Busan",
         35.1796,
         129.0756,
         "South Korea",
         "Major",
         "High",
         "Asia"
        ],
        [
         "Qingdao",
         36.0671,
         120.3826,
         "China",
         "Major",
         "Medium",
         "Asia"
        ],
        [
         "Rotterdam",
         51.9225,
         4.47917,
         "Netherlands",
         "Major",
         "High",
         "Europe"
        ],
        [
         "Antwerp",
         51.2291,
         4.4053,
         "Belgium",
         "Major",
         "High",
         "Europe"
        ],
        [
         "Hamburg",
         53.5511,
         9.9937,
         "Germany",
         "Major",
         "High",
         "Europe"
        ],
        [
         "Felixstowe",
         51.9617,
         1.3513,
         "UK",
         "Major",
         "Medium",
         "Europe"
        ],
        [
         "Valencia",
         39.4699,
         -0.3763,
         "Spain",
         "Major",
         "Medium",
         "Europe"
        ],
        [
         "Los Angeles",
         33.7175,
         -118.2675,
         "USA",
         "Major",
         "High",
         "North America"
        ],
        [
         "Long Beach",
         33.7623,
         -118.1954,
         "USA",
         "Major",
         "High",
         "North America"
        ],
        [
         "New York",
         40.6895,
         -74.1745,
         "USA",
         "Major",
         "High",
         "North America"
        ],
        [
         "Savannah",
         32.0814,
         -81.0914,
         "USA",
         "Major",
         "Medium",
         "North America"
        ],
        [
         "Vancouver",
         49.2827,
         -123.1207,
         "Canada",
         "Major",
         "Medium",
         "North America"
        ],
        [
         "Jebel Ali",
         25.0263,
         55.0564,
         "UAE",
         "Major",
         "High",
         "Middle East"
        ],
        [
         "Salalah",
         16.9344,
         54.0239,
         "Oman",
         "Major",
         "Medium",
         "Middle East"
        ]
       ],
       "datasetInfos": [],
       "dbfsResultPath": null,
       "isJsonSchema": true,
       "metadata": {},
       "overflow": false,
       "plotOptions": {
        "customPlotOptions": {},
        "displayType": "table",
        "pivotAggregation": null,
        "pivotColumns": null,
        "xColumns": null,
        "yColumns": null
       },
       "removedWidgets": [],
       "schema": [
        {
         "metadata": "{}",
         "name": "port_name",
         "type": "\"string\""
        },
        {
         "metadata": "{}",
         "name": "latitude",
         "type": "\"double\""
        },
        {
         "metadata": "{}",
         "name": "longitude",
         "type": "\"double\""
        },
        {
         "metadata": "{}",
         "name": "country",
         "type": "\"string\""
        },
        {
         "metadata": "{}",
         "name": "port_size",
         "type": "\"string\""
        },
        {
         "metadata": "{}",
         "name": "capacity_rating",
         "type": "\"string\""
        },
        {
         "metadata": "{}",
         "name": "region",
         "type": "\"string\""
        }
       ],
       "type": "table"
      }
     },
     "output_type": "display_data"
    },
    {
     "output_type": "stream",
     "name": "stdout",
     "output_type": "stream",
     "text": [
      "✅ MLflow experiment configured: /Users/u1025325052@gmail.com/supply_chain_risk_prediction\n"
     ]
    },
    {
     "output_type": "stream",
     "name": "stdout",
     "output_type": "stream",
     "text": [
      "\uD83D\uDD0D Running Environment Validation...\n✅ Test 1: Database accessible\n✅ Test 2: 6 tables exist\n✅ Test 3: MLflow experiment configured\n✅ Test 4: Azure Storage connected\n✅ Test 5: Spark operations working\n\n\uD83C\uDFAF Validation Results: 5/5 tests passed\n\uD83D\uDE80 Environment is READY for data ingestion!\n"
     ]
    },
    {
     "output_type": "stream",
     "name": "stdout",
     "output_type": "stream",
     "text": [
      "\uD83D\uDCBE Saving configuration with ACTUAL values:\n   • GNews API Key in config: ✅ PRESENT\n   • GNews API Key value: cd8e55ad6d...\n   • GDACS URL: https://www.gdacs.org/gdacsapi/api/events/geteventlist/SEARCH\n✅ Configuration saved to: /dbfs/FileStore/supply_chain/config.json\n\n\uD83D\uDD0D VERIFYING SAVED CONFIGURATION:\n   • GNews API Key saved: cd8e55ad6d...\n   • GDACS URL saved: https://www.gdacs.org/gdacsapi/api/events/geteventlist/SEARCH\n"
     ]
    },
    {
     "output_type": "stream",
     "name": "stdout",
     "output_type": "stream",
     "text": [
      "\n    \uD83C\uDF89 ENVIRONMENT SETUP COMPLETE!\n    \n    Next steps:\n    1. ✅ Replace GNews API key in the configuration\n    2. ➡️ Proceed to Notebook 2: Data Ingestion Pipeline\n    3. \uD83D\uDD27 Configure Azure OpenAI (optional for now)\n    \n    Your Azure Resources:\n    • Resource Group: irish-healthcare-agents-west-europe\n    • Databricks: irish-healthcare-db\n    • Storage: irishhealthdata\n    • Location: West Europe\n    \n"
     ]
    },
    {
     "output_type": "stream",
     "name": "stdout",
     "output_type": "stream",
     "text": [
      "\uD83D\uDD27 CURRENT CONFIGURATION STATUS:\n   Storage Account: irishhealthdata ✅\n   Database: supply_chain_analysis ✅\n   MLflow Experiment: /Users/u1025325052@gmail.com/supply_chain_risk_prediction ✅\n   GNews API Key: ✅ CONFIGURED\n"
     ]
    },
    {
     "output_type": "stream",
     "name": "stdout",
     "output_type": "stream",
     "text": [
      "✅ Environment imported from Notebook 1\n"
     ]
    },
    {
     "output_type": "stream",
     "name": "stdout",
     "output_type": "stream",
     "text": [
      "\uD83D\uDD27 USING DIRECT API CONFIGURATION:\n   • GNews API: ✅ CONFIGURED\n   • GDACS API: ✅ READY\n"
     ]
    },
    {
     "output_type": "stream",
     "name": "stdout",
     "output_type": "stream",
     "text": [
      "✅ Bronze tables created with explicit schemas\n"
     ]
    },
    {
     "output_type": "stream",
     "name": "stdout",
     "output_type": "stream",
     "text": [
      "\uD83D\uDE80 STARTING REAL DATA INGESTION PIPELINE...\n============================================================\n\uD83D\uDCDD NOTE: Using REAL APIs only - No sample data generation\n\uD83D\uDD2C MLflow Run Started: 50b5fe762e6042ff948c7dbd40fe70ff\n\n1. Ingesting GDACS Disaster Data...\n\uD83C\uDF2A️ Fetching REAL disaster data from GDACS API...\n   • API Endpoint: https://www.gdacs.org/gdacsapi/api/events/geteventlist/SEARCH\n   • Search Period: Last 30 days\n   • Alert Levels: All\n   • Response Status: 200\n   • Found 100 features in API response\n✅ Successfully collected 100 REAL disaster events\n   • Event Types: ['TC', 'EQ', 'WF', 'FL']\n   • Countries: ['Mariana Islands Region', 'Malaysia', 'South Of Kermadec Islands', 'Northern Mid-Atlantic Ridge', 'South Of Fiji Islands']...\n   • Alert Levels: ['Orange', 'Green', 'Red']\n   ✅ Stored 100 REAL disaster events (3.2s)\n\n2. Ingesting Supply Chain News...\n\uD83D\uDCF0 Fetching REAL supply chain news from GNews API...\n   • API Key: cd8e55ad...c34d\n   • Searching: 'port congestion shipping'\n      • Status: 200\n      ✅ Found 0 articles\n   • Searching: 'supply chain disruption'\n      • Status: 200\n      ✅ Found 10 articles\n      • Sample: 'Continuous improvement in your supply chain has never been m...'\n   • Searching: 'maritime logistics'\n      • Status: 200\n      ✅ Found 10 articles\n      • Sample: 'Samsung heavy industries joins India's shipbuilding push wit...'\n   • Searching: 'shipping delays'\n      • Status: 200\n      ✅ Found 9 articles\n      • Sample: 'USPS deadline alert: Last chance to ship holiday cards and g...'\n   • Searching: 'container shipping'\n      • Status: 200\n      ✅ Found 10 articles\n      • Sample: 'Falling ocean shipping rates put carrier profits at risk, an...'\n✅ Processed 39 REAL news articles\n   • Sources: ['Wilmington News Journal', 'Fast Company', 'The Hindu Business Line']...\n   • Avg Sentiment: -0.33\n   ✅ Stored 39 REAL news articles (8.2s)\n\uD83C\uDF89 REAL DATA INGESTION COMPLETED! Total data points: 139\n"
     ]
    },
    {
     "output_type": "stream",
     "name": "stdout",
     "output_type": "stream",
     "text": [
      "\uD83D\uDCCA REAL DATA QUALITY ANALYSIS\n==================================================\n\uD83C\uDF2A️ GDACS Disaster Data:\n   • Total Events: 100\n   • Event Types: ['TC', 'EQ', 'WF', 'FL']\n   • Countries: ['Russia', 'Svalbard and Jan Mayen', 'Philippines']...\n   • Data Source: GDACS_API_REAL\n\n\uD83D\uDCF0 Supply Chain News:\n   • Total Articles: 39\n   • Sources: ['Wilmington News Journal', 'Fast Company', 'The Hindu Business Line']...\n   • Avg Sentiment: -0.33\n   • Data Source: GNEWS_API_REAL\n"
     ]
    },
    {
     "output_type": "stream",
     "name": "stdout",
     "output_type": "stream",
     "text": [
      "\uD83D\uDD0D PREVIEW OF REAL DATA COLLECTED\n==================================================\n\n\uD83C\uDF2A️ Recent Disaster Alerts:\n"
     ]
    },
    {
     "output_type": "display_data",
     "data": {
      "text/html": [
       "<style scoped>\n",
       "  .table-result-container {\n",
       "    max-height: 300px;\n",
       "    overflow: auto;\n",
       "  }\n",
       "  table, th, td {\n",
       "    border: 1px solid black;\n",
       "    border-collapse: collapse;\n",
       "  }\n",
       "  th, td {\n",
       "    padding: 5px;\n",
       "  }\n",
       "  th {\n",
       "    text-align: left;\n",
       "  }\n",
       "</style><div class='table-result-container'><table class='table-result'><thead style='background-color: white'><tr><th>event_id</th><th>event_type</th><th>event_name</th><th>country</th><th>alert_level</th><th>start_date</th></tr></thead><tbody><tr><td>1503762</td><td>EQ</td><td>Earthquake in South Of Fiji Islands</td><td>South Of Fiji Islands</td><td>Green</td><td>2025-10-06T12:08:42Z</td></tr><tr><td>1503754</td><td>EQ</td><td>Earthquake in Italy</td><td>Italy</td><td>Green</td><td>2025-10-06T10:13:59Z</td></tr><tr><td>1503735</td><td>EQ</td><td>Earthquake in Indonesia</td><td>Indonesia</td><td>Green</td><td>2025-10-06T06:25:44Z</td></tr><tr><td>1503734</td><td>EQ</td><td>Earthquake in South Of Kermadec Islands</td><td>South Of Kermadec Islands</td><td>Green</td><td>2025-10-06T05:58:42Z</td></tr><tr><td>1503728</td><td>EQ</td><td>Earthquake in Northern Mid-Atlantic Ridge</td><td>Northern Mid-Atlantic Ridge</td><td>Green</td><td>2025-10-06T05:10:03Z</td></tr></tbody></table></div>"
      ]
     },
     "metadata": {
      "application/vnd.databricks.v1+output": {
       "addedWidgets": {},
       "aggData": [],
       "aggError": "",
       "aggOverflow": false,
       "aggSchema": [],
       "aggSeriesLimitReached": false,
       "aggType": "",
       "arguments": {},
       "columnCustomDisplayInfos": {},
       "data": [
        [
         "1503762",
         "EQ",
         "Earthquake in South Of Fiji Islands",
         "South Of Fiji Islands",
         "Green",
         "2025-10-06T12:08:42Z"
        ],
        [
         "1503754",
         "EQ",
         "Earthquake in Italy",
         "Italy",
         "Green",
         "2025-10-06T10:13:59Z"
        ],
        [
         "1503735",
         "EQ",
         "Earthquake in Indonesia",
         "Indonesia",
         "Green",
         "2025-10-06T06:25:44Z"
        ],
        [
         "1503734",
         "EQ",
         "Earthquake in South Of Kermadec Islands",
         "South Of Kermadec Islands",
         "Green",
         "2025-10-06T05:58:42Z"
        ],
        [
         "1503728",
         "EQ",
         "Earthquake in Northern Mid-Atlantic Ridge",
         "Northern Mid-Atlantic Ridge",
         "Green",
         "2025-10-06T05:10:03Z"
        ]
       ],
       "datasetInfos": [],
       "dbfsResultPath": null,
       "isJsonSchema": true,
       "metadata": {},
       "overflow": false,
       "plotOptions": {
        "customPlotOptions": {},
        "displayType": "table",
        "pivotAggregation": null,
        "pivotColumns": null,
        "xColumns": null,
        "yColumns": null
       },
       "removedWidgets": [],
       "schema": [
        {
         "metadata": "{}",
         "name": "event_id",
         "type": "\"string\""
        },
        {
         "metadata": "{}",
         "name": "event_type",
         "type": "\"string\""
        },
        {
         "metadata": "{}",
         "name": "event_name",
         "type": "\"string\""
        },
        {
         "metadata": "{}",
         "name": "country",
         "type": "\"string\""
        },
        {
         "metadata": "{}",
         "name": "alert_level",
         "type": "\"string\""
        },
        {
         "metadata": "{}",
         "name": "start_date",
         "type": "\"timestamp\""
        }
       ],
       "type": "table"
      }
     },
     "output_type": "display_data"
    },
    {
     "output_type": "stream",
     "name": "stdout",
     "output_type": "stream",
     "text": [
      "\n\uD83D\uDCF0 Recent Supply Chain News:\n"
     ]
    },
    {
     "output_type": "display_data",
     "data": {
      "text/html": [
       "<style scoped>\n",
       "  .table-result-container {\n",
       "    max-height: 300px;\n",
       "    overflow: auto;\n",
       "  }\n",
       "  table, th, td {\n",
       "    border: 1px solid black;\n",
       "    border-collapse: collapse;\n",
       "  }\n",
       "  th, td {\n",
       "    padding: 5px;\n",
       "  }\n",
       "  th {\n",
       "    text-align: left;\n",
       "  }\n",
       "</style><div class='table-result-container'><table class='table-result'><thead style='background-color: white'><tr><th>article_id</th><th>title</th><th>source</th><th>sentiment_score</th><th>published_at</th></tr></thead><tbody><tr><td>REAL_NEWS_29_1759756771</td><td>Falling ocean shipping rates put carrier profits at risk, analysts say</td><td>The Economic Times</td><td>-0.9</td><td>2025-10-04T05:01:00Z</td></tr><tr><td>REAL_NEWS_30_1759756771</td><td>China eyes Arctic shortcut as top container lines stay away</td><td>The Economic Times</td><td>0.0</td><td>2025-10-04T04:36:00Z</td></tr><tr><td>REAL_NEWS_31_1759756771</td><td>Falling ocean shipping rates put carrier profits at risk, analysts say</td><td>Reuters</td><td>0.0</td><td>2025-10-03T18:37:38Z</td></tr><tr><td>REAL_NEWS_32_1759756771</td><td>LNG row splits Europe as US challenges net-zero shipping deal</td><td>Euractiv</td><td>-0.3</td><td>2025-10-01T04:00:19Z</td></tr><tr><td>REAL_NEWS_33_1759756771</td><td>Global container shipping lines making waves</td><td>The Hindu Business Line</td><td>0.0</td><td>2025-09-30T16:05:59Z</td></tr></tbody></table></div>"
      ]
     },
     "metadata": {
      "application/vnd.databricks.v1+output": {
       "addedWidgets": {},
       "aggData": [],
       "aggError": "",
       "aggOverflow": false,
       "aggSchema": [],
       "aggSeriesLimitReached": false,
       "aggType": "",
       "arguments": {},
       "columnCustomDisplayInfos": {},
       "data": [
        [
         "REAL_NEWS_29_1759756771",
         "Falling ocean shipping rates put carrier profits at risk, analysts say",
         "The Economic Times",
         -0.9,
         "2025-10-04T05:01:00Z"
        ],
        [
         "REAL_NEWS_30_1759756771",
         "China eyes Arctic shortcut as top container lines stay away",
         "The Economic Times",
         0.0,
         "2025-10-04T04:36:00Z"
        ],
        [
         "REAL_NEWS_31_1759756771",
         "Falling ocean shipping rates put carrier profits at risk, analysts say",
         "Reuters",
         0.0,
         "2025-10-03T18:37:38Z"
        ],
        [
         "REAL_NEWS_32_1759756771",
         "LNG row splits Europe as US challenges net-zero shipping deal",
         "Euractiv",
         -0.3,
         "2025-10-01T04:00:19Z"
        ],
        [
         "REAL_NEWS_33_1759756771",
         "Global container shipping lines making waves",
         "The Hindu Business Line",
         0.0,
         "2025-09-30T16:05:59Z"
        ]
       ],
       "datasetInfos": [],
       "dbfsResultPath": null,
       "isJsonSchema": true,
       "metadata": {},
       "overflow": false,
       "plotOptions": {
        "customPlotOptions": {},
        "displayType": "table",
        "pivotAggregation": null,
        "pivotColumns": null,
        "xColumns": null,
        "yColumns": null
       },
       "removedWidgets": [],
       "schema": [
        {
         "metadata": "{}",
         "name": "article_id",
         "type": "\"string\""
        },
        {
         "metadata": "{}",
         "name": "title",
         "type": "\"string\""
        },
        {
         "metadata": "{}",
         "name": "source",
         "type": "\"string\""
        },
        {
         "metadata": "{}",
         "name": "sentiment_score",
         "type": "\"double\""
        },
        {
         "metadata": "{}",
         "name": "published_at",
         "type": "\"timestamp\""
        }
       ],
       "type": "table"
      }
     },
     "output_type": "display_data"
    },
    {
     "output_type": "stream",
     "name": "stdout",
     "output_type": "stream",
     "text": [
      "✅ Configuration updated with REAL data ingestion results\n"
     ]
    },
    {
     "output_type": "stream",
     "name": "stdout",
     "output_type": "stream",
     "text": [
      "\n\uD83C\uDF89 REAL DATA INGESTION COMPLETED!\n\n\uD83D\uDCCA REAL DATA SUMMARY:\n• Disaster Alerts: 100 events\n• News Articles: 39 articles\n• Data Source: ✅ REAL APIs ONLY\n• Sample Data: ❌ NOT USED\n• Data Integrity: ✅ MAINTAINED\n\n\uD83D\uDD27 API PERFORMANCE:\n• GDACS API: ✅ DATA \n• GNews API: ✅ DATA\n\n\uD83D\uDCC8 NEXT STEPS:\n• Proceed to Notebook 3 for Feature Engineering\n• Even with limited data, we can build the ML pipeline\n• Real-world data scenarios include empty/limited responses\n• System designed for real production use cases\n\n\uD83D\uDCA1 PRODUCTION READY:\n• No synthetic data contamination\n• Real API error handling\n• Empty dataset management\n• Production-grade data pipeline\n\n"
     ]
    },
    {
     "output_type": "stream",
     "name": "stdout",
     "output_type": "stream",
     "text": [
      "✅ Environment imported from Notebook 2\n"
     ]
    },
    {
     "output_type": "stream",
     "name": "stdout",
     "output_type": "stream",
     "text": [
      "\uD83D\uDD0D DATA QUALITY CHECK\n==================================================\n\uD83C\uDF2A️ GDACS Disaster Data:\n   • Total Events: 100\n   • Event Types: TC, EQ, WF, FL\n   • Data Source: GDACS_API_REAL\n   • Null Coordinates: 0\n\n\uD83D\uDCF0 Supply Chain News:\n   • Total Articles: 39\n   • Sources: Wilmington News Journal, Fast Company, The Hindu Business Line, The Economic Times, NDTV Profit...\n   • Data Source: GNEWS_API_REAL\n   • Avg Sentiment: -0.331\n   • Null Sentiment: 0\n"
     ]
    },
    {
     "output_type": "stream",
     "name": "stdout",
     "output_type": "stream",
     "text": [
      "\uD83D\uDD04 Creating Silver GDACS Table...\n✅ Silver GDACS table created with 100 enhanced records\n\uD83D\uDD04 Creating Silver News Table...\n✅ Silver News table created with 39 enhanced records\n"
     ]
    },
    {
     "output_type": "stream",
     "name": "stdout",
     "output_type": "stream",
     "text": [
      "✅ Geospatial distance function registered\n"
     ]
    },
    {
     "output_type": "stream",
     "name": "stdout",
     "output_type": "stream",
     "text": [
      "\uD83D\uDCCB Ports Table Schema:\n   • port_name: StringType()\n   • latitude: DoubleType()\n   • longitude: DoubleType()\n   • country: StringType()\n   • port_size: StringType()\n   • capacity_rating: StringType()\n   • region: StringType()\n\n\uD83D\uDCCA Sample Ports Data:\n"
     ]
    },
    {
     "output_type": "display_data",
     "data": {
      "text/html": [
       "<style scoped>\n",
       "  .table-result-container {\n",
       "    max-height: 300px;\n",
       "    overflow: auto;\n",
       "  }\n",
       "  table, th, td {\n",
       "    border: 1px solid black;\n",
       "    border-collapse: collapse;\n",
       "  }\n",
       "  th, td {\n",
       "    padding: 5px;\n",
       "  }\n",
       "  th {\n",
       "    text-align: left;\n",
       "  }\n",
       "</style><div class='table-result-container'><table class='table-result'><thead style='background-color: white'><tr><th>port_name</th><th>latitude</th><th>longitude</th><th>country</th><th>port_size</th><th>capacity_rating</th><th>region</th></tr></thead><tbody><tr><td>Hamburg</td><td>53.5511</td><td>9.9937</td><td>Germany</td><td>Major</td><td>High</td><td>Europe</td></tr><tr><td>Felixstowe</td><td>51.9617</td><td>1.3513</td><td>UK</td><td>Major</td><td>Medium</td><td>Europe</td></tr><tr><td>Valencia</td><td>39.4699</td><td>-0.3763</td><td>Spain</td><td>Major</td><td>Medium</td><td>Europe</td></tr><tr><td>Los Angeles</td><td>33.7175</td><td>-118.2675</td><td>USA</td><td>Major</td><td>High</td><td>North America</td></tr><tr><td>Long Beach</td><td>33.7623</td><td>-118.1954</td><td>USA</td><td>Major</td><td>High</td><td>North America</td></tr></tbody></table></div>"
      ]
     },
     "metadata": {
      "application/vnd.databricks.v1+output": {
       "addedWidgets": {},
       "aggData": [],
       "aggError": "",
       "aggOverflow": false,
       "aggSchema": [],
       "aggSeriesLimitReached": false,
       "aggType": "",
       "arguments": {},
       "columnCustomDisplayInfos": {},
       "data": [
        [
         "Hamburg",
         53.5511,
         9.9937,
         "Germany",
         "Major",
         "High",
         "Europe"
        ],
        [
         "Felixstowe",
         51.9617,
         1.3513,
         "UK",
         "Major",
         "Medium",
         "Europe"
        ],
        [
         "Valencia",
         39.4699,
         -0.3763,
         "Spain",
         "Major",
         "Medium",
         "Europe"
        ],
        [
         "Los Angeles",
         33.7175,
         -118.2675,
         "USA",
         "Major",
         "High",
         "North America"
        ],
        [
         "Long Beach",
         33.7623,
         -118.1954,
         "USA",
         "Major",
         "High",
         "North America"
        ]
       ],
       "datasetInfos": [],
       "dbfsResultPath": null,
       "isJsonSchema": true,
       "metadata": {},
       "overflow": false,
       "plotOptions": {
        "customPlotOptions": {},
        "displayType": "table",
        "pivotAggregation": null,
        "pivotColumns": null,
        "xColumns": null,
        "yColumns": null
       },
       "removedWidgets": [],
       "schema": [
        {
         "metadata": "{}",
         "name": "port_name",
         "type": "\"string\""
        },
        {
         "metadata": "{}",
         "name": "latitude",
         "type": "\"double\""
        },
        {
         "metadata": "{}",
         "name": "longitude",
         "type": "\"double\""
        },
        {
         "metadata": "{}",
         "name": "country",
         "type": "\"string\""
        },
        {
         "metadata": "{}",
         "name": "port_size",
         "type": "\"string\""
        },
        {
         "metadata": "{}",
         "name": "capacity_rating",
         "type": "\"string\""
        },
        {
         "metadata": "{}",
         "name": "region",
         "type": "\"string\""
        }
       ],
       "type": "table"
      }
     },
     "output_type": "display_data"
    },
    {
     "output_type": "stream",
     "name": "stdout",
     "output_type": "stream",
     "text": [
      "\uD83C\uDF10 CALCULATING PORT RISK SCORES...\n   • Ports to analyze: 19\n   • Active disasters: 100\n   • News articles: 39\n   \uD83D\uDD0D Analyzing Hamburg...\n   \uD83D\uDD0D Analyzing Felixstowe...\n   \uD83D\uDD0D Analyzing Valencia...\n   \uD83D\uDD0D Analyzing Los Angeles...\n   \uD83D\uDD0D Analyzing Long Beach...\n   \uD83D\uDD0D Analyzing New York...\n   \uD83D\uDD0D Analyzing Savannah...\n   \uD83D\uDD0D Analyzing Vancouver...\n   \uD83D\uDD0D Analyzing Jebel Ali...\n   \uD83D\uDD0D Analyzing Salalah...\n   \uD83D\uDD0D Analyzing Shanghai...\n   \uD83D\uDD0D Analyzing Singapore...\n   \uD83D\uDD0D Analyzing Shenzhen...\n   \uD83D\uDD0D Analyzing Ningbo-Zhoushan...\n   \uD83D\uDD0D Analyzing Hong Kong...\n   \uD83D\uDD0D Analyzing Busan...\n   \uD83D\uDD0D Analyzing Qingdao...\n   \uD83D\uDD0D Analyzing Rotterdam...\n   \uD83D\uDD0D Analyzing Antwerp...\n✅ Risk analysis completed for 19 ports\n"
     ]
    },
    {
     "output_type": "stream",
     "name": "stdout",
     "output_type": "stream",
     "text": [
      "\uD83D\uDD2C MLFLOW EXPERIMENT RESULTS:\n   • Total Ports Analyzed: 19\n   • Average Risk Score: 0.139\n   • Risk Distribution: 0 High, 0 Medium, 19 Low\n   • High Risk Ports: 0.0%\n   • Run ID: b29520ac460146fca04fbfe96af6ae70\n"
     ]
    },
    {
     "output_type": "stream",
     "name": "stdout",
     "output_type": "stream",
     "text": [
      "\uD83D\uDCCA SUPPLY CHAIN RISK DASHBOARD\n============================================================\n\n\uD83D\uDD34 TOP 10 HIGHEST RISK PORTS:\n"
     ]
    },
    {
     "output_type": "display_data",
     "data": {
      "text/html": [
       "<style scoped>\n",
       "  .table-result-container {\n",
       "    max-height: 300px;\n",
       "    overflow: auto;\n",
       "  }\n",
       "  table, th, td {\n",
       "    border: 1px solid black;\n",
       "    border-collapse: collapse;\n",
       "  }\n",
       "  th, td {\n",
       "    padding: 5px;\n",
       "  }\n",
       "  th {\n",
       "    text-align: left;\n",
       "  }\n",
       "</style><div class='table-result-container'><table class='table-result'><thead style='background-color: white'><tr><th>port_name</th><th>country</th><th>region</th><th>risk_level</th><th>risk_score</th><th>disaster_risk</th><th>news_risk</th><th>nearby_disasters_count</th><th>news_mentions</th></tr></thead><tbody><tr><td>Shenzhen</td><td>China</td><td>Asia</td><td>LOW</td><td>0.289</td><td>0.042</td><td>0.715</td><td>0</td><td>1</td></tr><tr><td>Hong Kong</td><td>China</td><td>Asia</td><td>LOW</td><td>0.274</td><td>0.041</td><td>0.66</td><td>0</td><td>1</td></tr><tr><td>Long Beach</td><td>USA</td><td>North America</td><td>LOW</td><td>0.266</td><td>0.0</td><td>0.715</td><td>0</td><td>1</td></tr><tr><td>Shanghai</td><td>China</td><td>Asia</td><td>LOW</td><td>0.24</td><td>0.0</td><td>0.66</td><td>0</td><td>1</td></tr><tr><td>Salalah</td><td>Oman</td><td>Middle East</td><td>LOW</td><td>0.151</td><td>0.003</td><td>0.0</td><td>0</td><td>0</td></tr><tr><td>Qingdao</td><td>China</td><td>Asia</td><td>LOW</td><td>0.135</td><td>0.0</td><td>0.0</td><td>0</td><td>0</td></tr><tr><td>Vancouver</td><td>Canada</td><td>North America</td><td>LOW</td><td>0.128</td><td>0.0</td><td>0.0</td><td>0</td><td>0</td></tr><tr><td>Savannah</td><td>USA</td><td>North America</td><td>LOW</td><td>0.128</td><td>0.0</td><td>0.0</td><td>0</td><td>0</td></tr><tr><td>Valencia</td><td>Spain</td><td>Europe</td><td>LOW</td><td>0.12</td><td>0.0</td><td>0.0</td><td>0</td><td>0</td></tr><tr><td>Felixstowe</td><td>UK</td><td>Europe</td><td>LOW</td><td>0.12</td><td>0.0</td><td>0.0</td><td>0</td><td>0</td></tr></tbody></table></div>"
      ]
     },
     "metadata": {
      "application/vnd.databricks.v1+output": {
       "addedWidgets": {},
       "aggData": [],
       "aggError": "",
       "aggOverflow": false,
       "aggSchema": [],
       "aggSeriesLimitReached": false,
       "aggType": "",
       "arguments": {},
       "columnCustomDisplayInfos": {},
       "data": [
        [
         "Shenzhen",
         "China",
         "Asia",
         "LOW",
         0.289,
         0.042,
         0.715,
         0,
         1
        ],
        [
         "Hong Kong",
         "China",
         "Asia",
         "LOW",
         0.274,
         0.041,
         0.66,
         0,
         1
        ],
        [
         "Long Beach",
         "USA",
         "North America",
         "LOW",
         0.266,
         0.0,
         0.715,
         0,
         1
        ],
        [
         "Shanghai",
         "China",
         "Asia",
         "LOW",
         0.24,
         0.0,
         0.66,
         0,
         1
        ],
        [
         "Salalah",
         "Oman",
         "Middle East",
         "LOW",
         0.151,
         0.003,
         0.0,
         0,
         0
        ],
        [
         "Qingdao",
         "China",
         "Asia",
         "LOW",
         0.135,
         0.0,
         0.0,
         0,
         0
        ],
        [
         "Vancouver",
         "Canada",
         "North America",
         "LOW",
         0.128,
         0.0,
         0.0,
         0,
         0
        ],
        [
         "Savannah",
         "USA",
         "North America",
         "LOW",
         0.128,
         0.0,
         0.0,
         0,
         0
        ],
        [
         "Valencia",
         "Spain",
         "Europe",
         "LOW",
         0.12,
         0.0,
         0.0,
         0,
         0
        ],
        [
         "Felixstowe",
         "UK",
         "Europe",
         "LOW",
         0.12,
         0.0,
         0.0,
         0,
         0
        ]
       ],
       "datasetInfos": [],
       "dbfsResultPath": null,
       "isJsonSchema": true,
       "metadata": {},
       "overflow": false,
       "plotOptions": {
        "customPlotOptions": {},
        "displayType": "table",
        "pivotAggregation": null,
        "pivotColumns": null,
        "xColumns": null,
        "yColumns": null
       },
       "removedWidgets": [],
       "schema": [
        {
         "metadata": "{}",
         "name": "port_name",
         "type": "\"string\""
        },
        {
         "metadata": "{}",
         "name": "country",
         "type": "\"string\""
        },
        {
         "metadata": "{}",
         "name": "region",
         "type": "\"string\""
        },
        {
         "metadata": "{}",
         "name": "risk_level",
         "type": "\"string\""
        },
        {
         "metadata": "{}",
         "name": "risk_score",
         "type": "\"double\""
        },
        {
         "metadata": "{}",
         "name": "disaster_risk",
         "type": "\"double\""
        },
        {
         "metadata": "{}",
         "name": "news_risk",
         "type": "\"double\""
        },
        {
         "metadata": "{}",
         "name": "nearby_disasters_count",
         "type": "\"integer\""
        },
        {
         "metadata": "{}",
         "name": "news_mentions",
         "type": "\"integer\""
        }
       ],
       "type": "table"
      }
     },
     "output_type": "display_data"
    },
    {
     "output_type": "stream",
     "name": "stdout",
     "output_type": "stream",
     "text": [
      "\n\uD83C\uDF0D RISK DISTRIBUTION BY REGION:\n"
     ]
    },
    {
     "output_type": "display_data",
     "data": {
      "text/html": [
       "<style scoped>\n",
       "  .table-result-container {\n",
       "    max-height: 300px;\n",
       "    overflow: auto;\n",
       "  }\n",
       "  table, th, td {\n",
       "    border: 1px solid black;\n",
       "    border-collapse: collapse;\n",
       "  }\n",
       "  th, td {\n",
       "    padding: 5px;\n",
       "  }\n",
       "  th {\n",
       "    text-align: left;\n",
       "  }\n",
       "</style><div class='table-result-container'><table class='table-result'><thead style='background-color: white'><tr><th>region</th><th>total_ports</th><th>avg_risk</th><th>high_risk_ports</th><th>medium_risk_ports</th><th>low_risk_ports</th></tr></thead><tbody><tr><td>Asia</td><td>7</td><td>0.172</td><td>0</td><td>0</td><td>7</td></tr><tr><td>North America</td><td>5</td><td>0.139</td><td>0</td><td>0</td><td>5</td></tr><tr><td>Middle East</td><td>2</td><td>0.131</td><td>0</td><td>0</td><td>2</td></tr><tr><td>Europe</td><td>5</td><td>0.096</td><td>0</td><td>0</td><td>5</td></tr></tbody></table></div>"
      ]
     },
     "metadata": {
      "application/vnd.databricks.v1+output": {
       "addedWidgets": {},
       "aggData": [],
       "aggError": "",
       "aggOverflow": false,
       "aggSchema": [],
       "aggSeriesLimitReached": false,
       "aggType": "",
       "arguments": {},
       "columnCustomDisplayInfos": {},
       "data": [
        [
         "Asia",
         7,
         0.172,
         0,
         0,
         7
        ],
        [
         "North America",
         5,
         0.139,
         0,
         0,
         5
        ],
        [
         "Middle East",
         2,
         0.131,
         0,
         0,
         2
        ],
        [
         "Europe",
         5,
         0.096,
         0,
         0,
         5
        ]
       ],
       "datasetInfos": [],
       "dbfsResultPath": null,
       "isJsonSchema": true,
       "metadata": {},
       "overflow": false,
       "plotOptions": {
        "customPlotOptions": {},
        "displayType": "table",
        "pivotAggregation": null,
        "pivotColumns": null,
        "xColumns": null,
        "yColumns": null
       },
       "removedWidgets": [],
       "schema": [
        {
         "metadata": "{}",
         "name": "region",
         "type": "\"string\""
        },
        {
         "metadata": "{}",
         "name": "total_ports",
         "type": "\"long\""
        },
        {
         "metadata": "{}",
         "name": "avg_risk",
         "type": "\"double\""
        },
        {
         "metadata": "{}",
         "name": "high_risk_ports",
         "type": "\"long\""
        },
        {
         "metadata": "{}",
         "name": "medium_risk_ports",
         "type": "\"long\""
        },
        {
         "metadata": "{}",
         "name": "low_risk_ports",
         "type": "\"long\""
        }
       ],
       "type": "table"
      }
     },
     "output_type": "display_data"
    },
    {
     "output_type": "stream",
     "name": "stdout",
     "output_type": "stream",
     "text": [
      "\n\uD83C\uDF2A️ DISASTER IMPACT ANALYSIS:\n"
     ]
    },
    {
     "output_type": "display_data",
     "data": {
      "text/html": [
       "<style scoped>\n",
       "  .table-result-container {\n",
       "    max-height: 300px;\n",
       "    overflow: auto;\n",
       "  }\n",
       "  table, th, td {\n",
       "    border: 1px solid black;\n",
       "    border-collapse: collapse;\n",
       "  }\n",
       "  th, td {\n",
       "    padding: 5px;\n",
       "  }\n",
       "  th {\n",
       "    text-align: left;\n",
       "  }\n",
       "</style><div class='table-result-container'><table class='table-result'><thead style='background-color: white'><tr><th>event_type</th><th>event_count</th><th>avg_risk_score</th><th>avg_severity</th><th>countries_affected</th><th>avg_population_impact</th></tr></thead><tbody><tr><td>TC</td><td>5</td><td>0.028</td><td>0.280</td><td>3</td><td>0.000</td></tr><tr><td>FL</td><td>6</td><td>0.016</td><td>0.200</td><td>6</td><td>0.000</td></tr><tr><td>EQ</td><td>29</td><td>0.010</td><td>0.100</td><td>17</td><td>0.000</td></tr><tr><td>WF</td><td>60</td><td>0.006</td><td>0.100</td><td>3</td><td>0.000</td></tr></tbody></table></div>"
      ]
     },
     "metadata": {
      "application/vnd.databricks.v1+output": {
       "addedWidgets": {},
       "aggData": [],
       "aggError": "",
       "aggOverflow": false,
       "aggSchema": [],
       "aggSeriesLimitReached": false,
       "aggType": "",
       "arguments": {},
       "columnCustomDisplayInfos": {},
       "data": [
        [
         "TC",
         5,
         "0.028",
         "0.280",
         3,
         "0.000"
        ],
        [
         "FL",
         6,
         "0.016",
         "0.200",
         6,
         "0.000"
        ],
        [
         "EQ",
         29,
         "0.010",
         "0.100",
         17,
         "0.000"
        ],
        [
         "WF",
         60,
         "0.006",
         "0.100",
         3,
         "0.000"
        ]
       ],
       "datasetInfos": [],
       "dbfsResultPath": null,
       "isJsonSchema": true,
       "metadata": {},
       "overflow": false,
       "plotOptions": {
        "customPlotOptions": {},
        "displayType": "table",
        "pivotAggregation": null,
        "pivotColumns": null,
        "xColumns": null,
        "yColumns": null
       },
       "removedWidgets": [],
       "schema": [
        {
         "metadata": "{}",
         "name": "event_type",
         "type": "\"string\""
        },
        {
         "metadata": "{}",
         "name": "event_count",
         "type": "\"long\""
        },
        {
         "metadata": "{}",
         "name": "avg_risk_score",
         "type": "\"decimal(19,3)\""
        },
        {
         "metadata": "{}",
         "name": "avg_severity",
         "type": "\"decimal(5,3)\""
        },
        {
         "metadata": "{}",
         "name": "countries_affected",
         "type": "\"long\""
        },
        {
         "metadata": "{}",
         "name": "avg_population_impact",
         "type": "\"decimal(15,3)\""
        }
       ],
       "type": "table"
      }
     },
     "output_type": "display_data"
    },
    {
     "output_type": "stream",
     "name": "stdout",
     "output_type": "stream",
     "text": [
      "\n\uD83D\uDCF0 NEWS SENTIMENT ANALYSIS:\n"
     ]
    },
    {
     "output_type": "display_data",
     "data": {
      "text/html": [
       "<style scoped>\n",
       "  .table-result-container {\n",
       "    max-height: 300px;\n",
       "    overflow: auto;\n",
       "  }\n",
       "  table, th, td {\n",
       "    border: 1px solid black;\n",
       "    border-collapse: collapse;\n",
       "  }\n",
       "  th, td {\n",
       "    padding: 5px;\n",
       "  }\n",
       "  th {\n",
       "    text-align: left;\n",
       "  }\n",
       "</style><div class='table-result-container'><table class='table-result'><thead style='background-color: white'><tr><th>impact_category</th><th>article_count</th><th>avg_sentiment</th><th>avg_risk_score</th><th>unique_sources</th></tr></thead><tbody><tr><td>High Negative Impact</td><td>20</td><td>-0.683</td><td>0.683</td><td>17</td></tr><tr><td>Medium Negative Impact</td><td>2</td><td>-0.3</td><td>0.3</td><td>2</td></tr><tr><td>Neutral/Low Impact</td><td>14</td><td>0.0</td><td>0.0</td><td>12</td></tr><tr><td>Medium Positive Impact</td><td>3</td><td>0.45</td><td>0.0</td><td>3</td></tr></tbody></table></div>"
      ]
     },
     "metadata": {
      "application/vnd.databricks.v1+output": {
       "addedWidgets": {},
       "aggData": [],
       "aggError": "",
       "aggOverflow": false,
       "aggSchema": [],
       "aggSeriesLimitReached": false,
       "aggType": "",
       "arguments": {},
       "columnCustomDisplayInfos": {},
       "data": [
        [
         "High Negative Impact",
         20,
         -0.683,
         0.683,
         17
        ],
        [
         "Medium Negative Impact",
         2,
         -0.3,
         0.3,
         2
        ],
        [
         "Neutral/Low Impact",
         14,
         0.0,
         0.0,
         12
        ],
        [
         "Medium Positive Impact",
         3,
         0.45,
         0.0,
         3
        ]
       ],
       "datasetInfos": [],
       "dbfsResultPath": null,
       "isJsonSchema": true,
       "metadata": {},
       "overflow": false,
       "plotOptions": {
        "customPlotOptions": {},
        "displayType": "table",
        "pivotAggregation": null,
        "pivotColumns": null,
        "xColumns": null,
        "yColumns": null
       },
       "removedWidgets": [],
       "schema": [
        {
         "metadata": "{}",
         "name": "impact_category",
         "type": "\"string\""
        },
        {
         "metadata": "{}",
         "name": "article_count",
         "type": "\"long\""
        },
        {
         "metadata": "{}",
         "name": "avg_sentiment",
         "type": "\"double\""
        },
        {
         "metadata": "{}",
         "name": "avg_risk_score",
         "type": "\"double\""
        },
        {
         "metadata": "{}",
         "name": "unique_sources",
         "type": "\"long\""
        }
       ],
       "type": "table"
      }
     },
     "output_type": "display_data"
    },
    {
     "output_type": "stream",
     "name": "stdout",
     "output_type": "stream",
     "text": [
      "\uD83D\uDD0D RISK FACTOR CORRELATION ANALYSIS\n==================================================\n\uD83D\uDCC8 Correlation with Overall Risk:\n   • Disaster Risk: 0.668\n   • News Risk: 0.951\n   • Capacity Risk: -0.107\n   • Regional Risk: 0.252\n   • Nearby Disasters Count: -0.208\n   • News Mentions: 0.665\n"
     ]
    },
    {
     "output_type": "stream",
     "name": "stdout",
     "output_type": "stream",
     "text": [
      "✅ Configuration updated with feature engineering results\n"
     ]
    },
    {
     "output_type": "stream",
     "name": "stdout",
     "output_type": "stream",
     "text": [
      "\n\uD83C\uDF89 SATURDAY WORK COMPLETED SUCCESSFULLY!\n\n\uD83D\uDCCA REAL DATA PROCESSING SUMMARY:\n• Disaster Events: 100 events (4 types)\n• News Articles: 39 articles (30 sources)  \n• Ports Analyzed: 19 major global ports\n• Data Sources: ✅ REAL APIs ONLY\n\n\uD83D\uDD2C FEATURE ENGINEERING COMPLETED:\n• Silver Tables: GDACS alerts & supply chain news\n• Risk Scores: Calculated for all ports\n• Geospatial Analysis: Distance-based risk calculations\n• Sentiment Analysis: Enhanced news impact scoring\n\n\uD83D\uDCC8 RISK ANALYSIS RESULTS:\n• Average Port Risk: 13.9%\n• High Risk Ports: 0 (0.0%)\n• Medium Risk Ports: 0 (0.0%) \n• Low Risk Ports: 19 (100.0%)\n\n\uD83D\uDD0D KEY INSIGHTS:\n• Disaster Correlation: 0.668 (strongest factor)\n• News Impact: 0.951 \n• Regional Variations: 4 regions analyzed\n\n\uD83D\uDE80 READY FOR SUNDAY:\n• MLflow Experiments: ✅ TRACKED\n• Data Pipeline: ✅ OPERATIONAL\n• Risk Models: ✅ CALIBRATED\n• AI Agents: ✅ READY FOR INTEGRATION\n\n➡️ Next: Notebook 4 - LangChain AI Agents & Real-time Monitoring\n\n\n\uD83D\uDD0D FINAL RISK OVERVIEW:\n"
     ]
    },
    {
     "output_type": "display_data",
     "data": {
      "text/html": [
       "<style scoped>\n",
       "  .table-result-container {\n",
       "    max-height: 300px;\n",
       "    overflow: auto;\n",
       "  }\n",
       "  table, th, td {\n",
       "    border: 1px solid black;\n",
       "    border-collapse: collapse;\n",
       "  }\n",
       "  th, td {\n",
       "    padding: 5px;\n",
       "  }\n",
       "  th {\n",
       "    text-align: left;\n",
       "  }\n",
       "</style><div class='table-result-container'><table class='table-result'><thead style='background-color: white'><tr><th>port_name</th><th>country</th><th>region</th><th>risk_level</th><th>overall_risk</th><th>nearby_disasters_count</th><th>news_mentions</th></tr></thead><tbody><tr><td>Shenzhen</td><td>China</td><td>Asia</td><td>LOW</td><td>0.2885411193611548</td><td>0</td><td>1</td></tr><tr><td>Hong Kong</td><td>China</td><td>Asia</td><td>LOW</td><td>0.2744624445691117</td><td>0</td><td>1</td></tr><tr><td>Long Beach</td><td>USA</td><td>North America</td><td>LOW</td><td>0.26625</td><td>0</td><td>1</td></tr><tr><td>Shanghai</td><td>China</td><td>Asia</td><td>LOW</td><td>0.24</td><td>0</td><td>1</td></tr><tr><td>Salalah</td><td>Oman</td><td>Middle East</td><td>LOW</td><td>0.1508937267951947</td><td>0</td><td>0</td></tr><tr><td>Qingdao</td><td>China</td><td>Asia</td><td>LOW</td><td>0.135</td><td>0</td><td>0</td></tr><tr><td>Savannah</td><td>USA</td><td>North America</td><td>LOW</td><td>0.12750000000000003</td><td>0</td><td>0</td></tr><tr><td>Vancouver</td><td>Canada</td><td>North America</td><td>LOW</td><td>0.12750000000000003</td><td>0</td><td>0</td></tr><tr><td>Felixstowe</td><td>UK</td><td>Europe</td><td>LOW</td><td>0.12000000000000002</td><td>0</td><td>0</td></tr><tr><td>Valencia</td><td>Spain</td><td>Europe</td><td>LOW</td><td>0.12000000000000002</td><td>0</td><td>0</td></tr></tbody></table></div>"
      ]
     },
     "metadata": {
      "application/vnd.databricks.v1+output": {
       "addedWidgets": {},
       "aggData": [],
       "aggError": "",
       "aggOverflow": false,
       "aggSchema": [],
       "aggSeriesLimitReached": false,
       "aggType": "",
       "arguments": {},
       "columnCustomDisplayInfos": {},
       "data": [
        [
         "Shenzhen",
         "China",
         "Asia",
         "LOW",
         0.2885411193611548,
         0,
         1
        ],
        [
         "Hong Kong",
         "China",
         "Asia",
         "LOW",
         0.2744624445691117,
         0,
         1
        ],
        [
         "Long Beach",
         "USA",
         "North America",
         "LOW",
         0.26625,
         0,
         1
        ],
        [
         "Shanghai",
         "China",
         "Asia",
         "LOW",
         0.24,
         0,
         1
        ],
        [
         "Salalah",
         "Oman",
         "Middle East",
         "LOW",
         0.1508937267951947,
         0,
         0
        ],
        [
         "Qingdao",
         "China",
         "Asia",
         "LOW",
         0.135,
         0,
         0
        ],
        [
         "Savannah",
         "USA",
         "North America",
         "LOW",
         0.12750000000000003,
         0,
         0
        ],
        [
         "Vancouver",
         "Canada",
         "North America",
         "LOW",
         0.12750000000000003,
         0,
         0
        ],
        [
         "Felixstowe",
         "UK",
         "Europe",
         "LOW",
         0.12000000000000002,
         0,
         0
        ],
        [
         "Valencia",
         "Spain",
         "Europe",
         "LOW",
         0.12000000000000002,
         0,
         0
        ]
       ],
       "datasetInfos": [],
       "dbfsResultPath": null,
       "isJsonSchema": true,
       "metadata": {},
       "overflow": false,
       "plotOptions": {
        "customPlotOptions": {},
        "displayType": "table",
        "pivotAggregation": null,
        "pivotColumns": null,
        "xColumns": null,
        "yColumns": null
       },
       "removedWidgets": [],
       "schema": [
        {
         "metadata": "{}",
         "name": "port_name",
         "type": "\"string\""
        },
        {
         "metadata": "{}",
         "name": "country",
         "type": "\"string\""
        },
        {
         "metadata": "{}",
         "name": "region",
         "type": "\"string\""
        },
        {
         "metadata": "{}",
         "name": "risk_level",
         "type": "\"string\""
        },
        {
         "metadata": "{}",
         "name": "overall_risk",
         "type": "\"double\""
        },
        {
         "metadata": "{}",
         "name": "nearby_disasters_count",
         "type": "\"integer\""
        },
        {
         "metadata": "{}",
         "name": "news_mentions",
         "type": "\"integer\""
        }
       ],
       "type": "table"
      }
     },
     "output_type": "display_data"
    }
   ],
   "source": [
    "%run ./03_FeatureEnginnering_RiskAnalysis"
   ]
  },
  {
   "cell_type": "code",
   "execution_count": 0,
   "metadata": {
    "application/vnd.databricks.v1+cell": {
     "cellMetadata": {
      "byteLimit": 2048000,
      "rowLimit": 10000
     },
     "inputWidgets": {},
     "nuid": "1e5f436f-56b3-4ad6-b471-b99d4b9213f8",
     "showTitle": false,
     "tableResultSettingsMap": {},
     "title": ""
    }
   },
   "outputs": [
    {
     "output_type": "stream",
     "name": "stdout",
     "output_type": "stream",
     "text": [
      "✅ All libraries imported successfully!\n"
     ]
    }
   ],
   "source": [
    "# Import libraries\n",
    "from flask import Flask, jsonify, request, send_file\n",
    "import threading\n",
    "from pyngrok import ngrok\n",
    "import json\n",
    "from datetime import datetime\n",
    "import pandas as pd\n",
    "import io\n",
    "from reportlab.lib.pagesizes import letter\n",
    "from reportlab.platypus import SimpleDocTemplate, Paragraph, Spacer, Table, TableStyle\n",
    "from reportlab.lib.styles import getSampleStyleSheet\n",
    "from reportlab.lib import colors\n",
    "import base64\n",
    "import re\n",
    "\n",
    "# LangChain & Azure OpenAI imports\n",
    "from langchain.agents import Tool\n",
    "from langchain.schema import SystemMessage, HumanMessage\n",
    "from langchain_community.chat_models import AzureChatOpenAI\n",
    "\n",
    "print(\"✅ All libraries imported successfully!\")"
   ]
  },
  {
   "cell_type": "code",
   "execution_count": 0,
   "metadata": {
    "application/vnd.databricks.v1+cell": {
     "cellMetadata": {
      "byteLimit": 2048000,
      "rowLimit": 10000
     },
     "inputWidgets": {},
     "nuid": "cb5f451b-e182-4382-b08a-d651d0bd54bd",
     "showTitle": false,
     "tableResultSettingsMap": {},
     "title": ""
    }
   },
   "outputs": [],
   "source": [
    "# Azure OpenAI Configuration\n",
    "AZURE_OPENAI_CONFIG = {\n",
    "    \"api_key\": \"\",  # Replace with actual key\n",
    "    \"api_version\": \"2024-12-01-preview\", \n",
    "    \"azure_endpoint\": \"https://u1025-mgdvz6so-eastus2.cognitiveservices.azure.com/\",\n",
    "    \"deployment_name\": \"gpt-35-turbo\"\n",
    "}"
   ]
  },
  {
   "cell_type": "code",
   "execution_count": 0,
   "metadata": {
    "application/vnd.databricks.v1+cell": {
     "cellMetadata": {
      "byteLimit": 2048000,
      "rowLimit": 10000
     },
     "inputWidgets": {},
     "nuid": "7d174d5f-b3aa-4c4f-b7e5-91d5329f9103",
     "showTitle": false,
     "tableResultSettingsMap": {},
     "title": ""
    }
   },
   "outputs": [
    {
     "output_type": "stream",
     "name": "stderr",
     "output_type": "stream",
     "text": [
      "/local_disk0/.ephemeral_nfs/cluster_libraries/python/lib/python3.10/site-packages/langchain_core/_api/deprecation.py:117: LangChainDeprecationWarning: The class `langchain_community.chat_models.azure_openai.AzureChatOpenAI` was deprecated in langchain-community 0.0.10 and will be removed in 0.2.0. An updated version of the class exists in the langchain-openai package and should be used instead. To use it run `pip install -U langchain-openai` and import as `from langchain_openai import AzureChatOpenAI`.\n  warn_deprecated(\n"
     ]
    },
    {
     "output_type": "stream",
     "name": "stdout",
     "output_type": "stream",
     "text": [
      "✅ Azure OpenAI configured successfully!\n"
     ]
    }
   ],
   "source": [
    "# Initialize Azure OpenAI LLM\n",
    "try:\n",
    "    llm = AzureChatOpenAI(\n",
    "        openai_api_key=AZURE_OPENAI_CONFIG[\"api_key\"],\n",
    "        openai_api_version=AZURE_OPENAI_CONFIG[\"api_version\"],\n",
    "        azure_endpoint=AZURE_OPENAI_CONFIG[\"azure_endpoint\"],\n",
    "        deployment_name=AZURE_OPENAI_CONFIG[\"deployment_name\"],\n",
    "        temperature=0.1,\n",
    "        max_tokens=1500\n",
    "    )\n",
    "    azure_ai_available = True\n",
    "    print(\"✅ Azure OpenAI configured successfully!\")\n",
    "except Exception as e:\n",
    "    azure_ai_available = False\n",
    "    print(f\"⚠️ Azure OpenAI not available: {e}\")\n",
    "    print(\"Using mock AI responses for demo\")"
   ]
  },
  {
   "cell_type": "code",
   "execution_count": 0,
   "metadata": {
    "application/vnd.databricks.v1+cell": {
     "cellMetadata": {
      "byteLimit": 2048000,
      "rowLimit": 10000
     },
     "inputWidgets": {},
     "nuid": "e7f0d331-af24-400a-9f16-14ffffe04392",
     "showTitle": false,
     "tableResultSettingsMap": {},
     "title": ""
    }
   },
   "outputs": [
    {
     "output_type": "stream",
     "name": "stdout",
     "output_type": "stream",
     "text": [
      "✅ Enhanced LangChain tools created successfully!\n"
     ]
    }
   ],
   "source": [
    "def check_port_risk_tool(port_name):\n",
    "    \"\"\"Enhanced port risk analysis tool\"\"\"\n",
    "    try:\n",
    "        risk_df = spark.sql(f\"\"\"\n",
    "            SELECT port_name, country, region, risk_level, overall_risk,\n",
    "                   disaster_risk, news_risk, nearby_disasters_count, news_mentions,\n",
    "                   capacity_rating, calculated_at\n",
    "            FROM supply_chain_analysis.port_risk_scores \n",
    "            WHERE LOWER(port_name) LIKE LOWER('%{port_name}%')\n",
    "        \"\"\")\n",
    "        \n",
    "        if risk_df.count() > 0:\n",
    "            risk_data = risk_df.collect()[0]\n",
    "            \n",
    "            # Get recent news for this port\n",
    "            port_news = spark.sql(f\"\"\"\n",
    "                SELECT title, sentiment_score, published_at\n",
    "                FROM supply_chain_analysis.silver_supply_chain_news\n",
    "                WHERE LOWER(title) LIKE LOWER('%{port_name}%')\n",
    "                OR LOWER(content) LIKE LOWER('%{port_name}%')\n",
    "                ORDER BY published_at DESC\n",
    "                LIMIT 3\n",
    "            \"\"\").collect()\n",
    "            \n",
    "            result = f\"\"\"\n",
    "            \uD83D\uDEA2 PORT RISK ANALYSIS: {risk_data.port_name.upper()}\n",
    "            \n",
    "            \uD83D\uDCCD Location: {risk_data.country}, {risk_data.region}\n",
    "            \uD83C\uDFAF Overall Risk: {risk_data.risk_level} ({risk_data.overall_risk:.1%})\n",
    "            \n",
    "            \uD83D\uDCCA Risk Breakdown:\n",
    "            • Disaster Risk: {risk_data.disaster_risk:.1%}\n",
    "            • News Sentiment Risk: {risk_data.news_risk:.1%} \n",
    "            • Capacity Rating: {risk_data.capacity_rating}\n",
    "            \n",
    "            \uD83D\uDCC8 Activity Metrics:\n",
    "            • Nearby Disasters: {risk_data.nearby_disasters_count}\n",
    "            • Recent News Mentions: {risk_data.news_mentions}\n",
    "            \"\"\"\n",
    "            \n",
    "            if port_news:\n",
    "                result += \"\\n\uD83D\uDCF0 Recent News Headlines:\\n\"\n",
    "                for news in port_news:\n",
    "                    sentiment_emoji = \"\uD83D\uDD34\" if news.sentiment_score < -0.3 else \"\uD83D\uDFE1\" if news.sentiment_score < 0.3 else \"\uD83D\uDFE2\"\n",
    "                    result += f\"• {sentiment_emoji} {news.title[:80]}...\\n\"\n",
    "            \n",
    "            result += f\"\\n⏰ Last Updated: {risk_data.calculated_at}\"\n",
    "            return result\n",
    "        else:\n",
    "            return f\"❌ No risk data found for port: {port_name}\"\n",
    "    except Exception as e:\n",
    "        return f\"Error checking port risk: {str(e)}\"\n",
    "\n",
    "def analyze_shipping_route_tool(route_input):\n",
    "    \"\"\"Enhanced shipping route analysis tool\"\"\"\n",
    "    try:\n",
    "        # Parse route input\n",
    "        if ',' in route_input:\n",
    "            parts = route_input.split(',')\n",
    "            origin = parts[0].strip()\n",
    "            destination = parts[1].strip()\n",
    "        else:\n",
    "            return \"Please provide route in format: 'origin, destination'\"\n",
    "        \n",
    "        # Get risk data for both ports\n",
    "        origin_df = spark.sql(f\"\"\"\n",
    "            SELECT port_name, country, overall_risk, risk_level, \n",
    "                   disaster_risk, news_risk, nearby_disasters_count\n",
    "            FROM supply_chain_analysis.port_risk_scores \n",
    "            WHERE LOWER(port_name) LIKE LOWER('%{origin}%')\n",
    "        \"\"\")\n",
    "        \n",
    "        dest_df = spark.sql(f\"\"\"\n",
    "            SELECT port_name, country, overall_risk, risk_level,\n",
    "                   disaster_risk, news_risk, nearby_disasters_count  \n",
    "            FROM supply_chain_analysis.port_risk_scores \n",
    "            WHERE LOWER(port_name) LIKE LOWER('%{destination}%')\n",
    "        \"\"\")\n",
    "        \n",
    "        if origin_df.count() > 0 and dest_df.count() > 0:\n",
    "            origin_data = origin_df.collect()[0]\n",
    "            dest_data = dest_df.collect()[0]\n",
    "            \n",
    "            # Calculate route risk\n",
    "            route_risk = (origin_data.overall_risk + dest_data.overall_risk) / 2\n",
    "            risk_level = \"HIGH\" if route_risk > 0.7 else \"MEDIUM\" if route_risk > 0.4 else \"LOW\"\n",
    "            \n",
    "            # Get disasters along route\n",
    "            route_disasters = spark.sql(f\"\"\"\n",
    "                SELECT event_type, event_name, country, alert_level, calculated_risk_score\n",
    "                FROM supply_chain_analysis.silver_gdacs_alerts\n",
    "                WHERE start_date >= current_date() - INTERVAL 7 days\n",
    "                ORDER BY calculated_risk_score DESC\n",
    "                LIMIT 5\n",
    "            \"\"\").collect()\n",
    "            \n",
    "            result = f\"\"\"\n",
    "            \uD83D\uDDFA️ SHIPPING ROUTE ANALYSIS: {origin_data.port_name.upper()} → {dest_data.port_name.upper()}\n",
    "            \n",
    "            \uD83C\uDFAF Route Risk: {risk_level} ({route_risk:.1%})\n",
    "            \n",
    "            \uD83D\uDCCD Origin: {origin_data.port_name} ({origin_data.country})\n",
    "            • Risk: {origin_data.risk_level} ({origin_data.overall_risk:.1%})\n",
    "            • Nearby Disasters: {origin_data.nearby_disasters_count}\n",
    "            \n",
    "            \uD83D\uDCCD Destination: {dest_data.port_name} ({dest_data.country})  \n",
    "            • Risk: {dest_data.risk_level} ({dest_data.overall_risk:.1%})\n",
    "            • Nearby Disasters: {dest_data.nearby_disasters_count}\n",
    "            \"\"\"\n",
    "            \n",
    "            if route_disasters:\n",
    "                result += \"\\n\uD83C\uDF2A️ Recent Disasters Along Route:\\n\"\n",
    "                for disaster in route_disasters:\n",
    "                    alert_emoji = \"\uD83D\uDD34\" if disaster.alert_level == \"Red\" else \"\uD83D\uDFE0\" if disaster.alert_level == \"Orange\" else \"\uD83D\uDFE1\"\n",
    "                    result += f\"• {alert_emoji} {disaster.event_type} in {disaster.country}: {disaster.event_name} (Risk: {disaster.calculated_risk_score:.1%})\\n\"\n",
    "            \n",
    "            # Recommendations based on risk level\n",
    "            if risk_level == \"HIGH\":\n",
    "                result += \"\\n\uD83D\uDEA8 RECOMMENDATIONS:\\n• Consider alternative routes via Vancouver or Seattle\\n• Increase buffer time by 7-10 days\\n• Monitor weather alerts closely\\n• Consider air freight for time-sensitive cargo\"\n",
    "            elif risk_level == \"MEDIUM\":\n",
    "                result += \"\\n⚠️ RECOMMENDATIONS:\\n• Monitor port congestion updates\\n• Increase buffer time by 3-5 days\\n• Have contingency plans ready\\n• Track weather patterns\"\n",
    "            else:\n",
    "                result += \"\\n✅ RECOMMENDATIONS:\\n• Proceed with normal operations\\n• Standard monitoring procedures\\n• Maintain regular communication\"\n",
    "            \n",
    "            return result\n",
    "        else:\n",
    "            return f\"❌ Could not analyze route {origin} → {destination}. Check port names.\"\n",
    "    except Exception as e:\n",
    "        return f\"Error analyzing route: {str(e)}\"\n",
    "\n",
    "def get_recent_disasters_tool(region_input):\n",
    "    \"\"\"Enhanced disaster monitoring tool\"\"\"\n",
    "    try:\n",
    "        region = region_input.strip() if region_input.strip().lower() != \"all\" else None\n",
    "        \n",
    "        query = \"\"\"\n",
    "            SELECT event_type, event_name, country, alert_level, \n",
    "                   calculated_risk_score, start_date, population_affected\n",
    "            FROM supply_chain_analysis.silver_gdacs_alerts\n",
    "            WHERE start_date >= current_date() - INTERVAL 7 days\n",
    "        \"\"\"\n",
    "        if region:\n",
    "            query += f\" AND LOWER(country) LIKE LOWER('%{region}%')\"\n",
    "        query += \" ORDER BY calculated_risk_score DESC LIMIT 10\"\n",
    "        \n",
    "        disasters_df = spark.sql(query)\n",
    "        \n",
    "        if disasters_df.count() > 0:\n",
    "            result = \"\uD83C\uDF2A️ RECENT HIGH-IMPACT DISASTERS\\n\\n\"\n",
    "            \n",
    "            for i, row in enumerate(disasters_df.collect(), 1):\n",
    "                alert_emoji = \"\uD83D\uDD34\" if row.alert_level == \"Red\" else \"\uD83D\uDFE0\" if row.alert_level == \"Orange\" else \"\uD83D\uDFE1\"\n",
    "                event_emoji = \"\uD83C\uDF00\" if row.event_type == \"TC\" else \"\uD83C\uDFDA️\" if row.event_type == \"EQ\" else \"\uD83D\uDD25\" if row.event_type == \"WF\" else \"\uD83C\uDF0A\"\n",
    "                \n",
    "                result += f\"{i}. {event_emoji} {alert_emoji} **{row.event_type}** in {row.country}\\n\"\n",
    "                result += f\"   • **Event:** {row.event_name}\\n\"\n",
    "                result += f\"   • **Risk Score:** {row.calculated_risk_score:.1%}\\n\"\n",
    "                result += f\"   • **Alert Level:** {row.alert_level}\\n\"\n",
    "                if row.population_affected and row.population_affected > 0:\n",
    "                    result += f\"   • **Population Affected:** {row.population_affected:,}\\n\"\n",
    "                result += f\"   • **Started:** {row.start_date.strftime('%Y-%m-%d')}\\n\\n\"\n",
    "            \n",
    "            result += \"\uD83D\uDCA1 **Impact on Supply Chains:**\\n• Monitor shipping lane disruptions\\n• Check port operational status\\n• Review alternative routes\\n• Assess cargo delay risks\"\n",
    "            return result\n",
    "        else:\n",
    "            return f\"✅ No recent high-impact disasters detected{' in ' + region if region else ' globally'}\"\n",
    "    except Exception as e:\n",
    "        return f\"Error fetching disasters: {str(e)}\"\n",
    "\n",
    "def generate_risk_report_tool(report_type):\n",
    "    \"\"\"Enhanced risk reporting tool\"\"\"\n",
    "    try:\n",
    "        # Get comprehensive data\n",
    "        stats = spark.sql(\"\"\"\n",
    "            SELECT \n",
    "                COUNT(*) as total_ports,\n",
    "                AVG(overall_risk) as avg_risk,\n",
    "                COUNT(CASE WHEN risk_level = 'HIGH' THEN 1 END) as high_risk_ports,\n",
    "                COUNT(CASE WHEN risk_level = 'MEDIUM' THEN 1 END) as medium_risk_ports,\n",
    "                COUNT(CASE WHEN risk_level = 'LOW' THEN 1 END) as low_risk_ports,\n",
    "                SUM(nearby_disasters_count) as total_nearby_disasters\n",
    "            FROM supply_chain_analysis.port_risk_scores\n",
    "        \"\"\").collect()[0]\n",
    "        \n",
    "        risky_ports = spark.sql(\"\"\"\n",
    "            SELECT port_name, country, overall_risk, risk_level, \n",
    "                   disaster_risk, news_risk, nearby_disasters_count\n",
    "            FROM supply_chain_analysis.port_risk_scores \n",
    "            ORDER BY overall_risk DESC \n",
    "            LIMIT 8\n",
    "        \"\"\").collect()\n",
    "        \n",
    "        recent_disasters = spark.sql(\"\"\"\n",
    "            SELECT COUNT(*) as disaster_count,\n",
    "                   COUNT(CASE WHEN alert_level = 'Red' THEN 1 END) as red_alerts\n",
    "            FROM supply_chain_analysis.silver_gdacs_alerts\n",
    "            WHERE start_date >= current_date() - INTERVAL 7 days\n",
    "        \"\"\").collect()[0]\n",
    "        \n",
    "        result = f\"\"\"\n",
    "        \uD83D\uDCCA SUPPLY CHAIN RISK INTELLIGENCE REPORT\n",
    "        ⏰ Generated: {datetime.now().strftime('%Y-%m-%d %H:%M UTC')}\n",
    "        {'='*60}\n",
    "        \n",
    "        \uD83D\uDCC8 EXECUTIVE SUMMARY\n",
    "        • Ports Monitored: {stats.total_ports}\n",
    "        • Average Risk Score: {stats.avg_risk:.1%}\n",
    "        • High Risk Ports: {stats.high_risk_ports}\n",
    "        • Medium Risk Ports: {stats.medium_risk_ports}\n",
    "        • Recent Disasters: {recent_disasters.disaster_count}\n",
    "        • Red Alert Disasters: {recent_disasters.red_alerts}\n",
    "        \n",
    "        \uD83D\uDEA8 TOP RISK CONCERNS\n",
    "        \"\"\"\n",
    "        \n",
    "        for i, port in enumerate(risky_ports, 1):\n",
    "            risk_emoji = \"\uD83D\uDD34\" if port.overall_risk > 0.7 else \"\uD83D\uDFE0\" if port.overall_risk > 0.4 else \"\uD83D\uDFE1\"\n",
    "            result += f\"{i}. {risk_emoji} **{port.port_name}** ({port.country})\\n\"\n",
    "            result += f\"   • Overall Risk: {port.overall_risk:.1%}\\n\"\n",
    "            result += f\"   • Disaster Risk: {port.disaster_risk:.1%}\\n\"\n",
    "            result += f\"   • News Risk: {port.news_risk:.1%}\\n\"\n",
    "            result += f\"   • Nearby Disasters: {port.nearby_disasters_count}\\n\\n\"\n",
    "        \n",
    "        result += \"\"\"\uD83C\uDFAF CRITICAL RECOMMENDATIONS\n",
    "        \n",
    "        1. \uD83D\uDEA2 HIGH-RISK PORTS\n",
    "        • Implement enhanced monitoring for top 3 risky ports\n",
    "        • Develop contingency routing plans\n",
    "        • Increase buffer stock for affected routes\n",
    "        \n",
    "        2. \uD83C\uDF2A️ DISASTER PREPAREDNESS  \n",
    "        • Monitor real-time disaster alerts\n",
    "        • Establish communication protocols\n",
    "        • Pre-identify alternative suppliers\n",
    "        \n",
    "        3. \uD83D\uDCF0 MEDIA & SENTIMENT\n",
    "        • Track news sentiment trends\n",
    "        • Proactive stakeholder communication\n",
    "        • Social media monitoring\n",
    "        \n",
    "        \uD83D\uDD2E NEXT 7-DAY OUTLOOK\n",
    "        • Continue daily risk assessments\n",
    "        • Monitor seasonal weather patterns\n",
    "        • Review geopolitical developments\n",
    "        \n",
    "        \uD83D\uDCC5 NEXT REVIEW: 24 hours\n",
    "        \"\"\"\n",
    "        \n",
    "        return result\n",
    "    except Exception as e:\n",
    "        return f\"Error generating report: {str(e)}\"\n",
    "\n",
    "# Create LangChain Tools\n",
    "tools = [\n",
    "    Tool(\n",
    "        name=\"CheckPortRisk\",\n",
    "        func=check_port_risk_tool,\n",
    "        description=\"Useful for checking detailed risk analysis of specific ports. Input: port name like 'Shanghai' or 'Los Angeles'\"\n",
    "    ),\n",
    "    Tool(\n",
    "        name=\"AnalyzeShippingRoute\", \n",
    "        func=analyze_shipping_route_tool,\n",
    "        description=\"Useful for comprehensive shipping route risk analysis. Input: 'origin, destination' like 'Shanghai, Los Angeles'\"\n",
    "    ),\n",
    "    Tool(\n",
    "        name=\"GetRecentDisasters\",\n",
    "        func=get_recent_disasters_tool,\n",
    "        description=\"Useful for getting recent natural disasters with detailed impact analysis. Input: region like 'Asia' or 'Europe', or 'all' for global\"\n",
    "    ),\n",
    "    Tool(\n",
    "        name=\"GenerateRiskReport\",\n",
    "        func=generate_risk_report_tool,\n",
    "        description=\"Useful for generating comprehensive supply chain risk intelligence reports. Input: any text describing report focus\"\n",
    "    )\n",
    "]\n",
    "\n",
    "print(\"✅ Enhanced LangChain tools created successfully!\")"
   ]
  },
  {
   "cell_type": "code",
   "execution_count": 0,
   "metadata": {
    "application/vnd.databricks.v1+cell": {
     "cellMetadata": {
      "byteLimit": 2048000,
      "rowLimit": 10000
     },
     "inputWidgets": {},
     "nuid": "a8f30ee7-4fa4-4f48-aa62-1df125ac2503",
     "showTitle": false,
     "tableResultSettingsMap": {},
     "title": ""
    }
   },
   "outputs": [
    {
     "output_type": "stream",
     "name": "stdout",
     "output_type": "stream",
     "text": [
      "✅ Enhanced Supply Chain Agent initialized successfully!\n\n============================================================\n\uD83E\uDDEA TESTING ENHANCED SUPPLY CHAIN AGENT\n============================================================\n\n\uD83D\uDCDD Test 1/5: 'What's the current risk situation for Shanghai port?'\n----------------------------------------\n\uD83E\uDDE0 Processing query: 'What's the current risk situation for Shanghai port?'\n\uD83E\uDD16 AI Analysis: TOOL: CheckPortRisk: Shanghai port\n\uD83D\uDD27 Using tool: CheckPortRisk with input: 'Shanghai port'\n\uD83D\uDCCA Tool result received (44 chars)\n✅ Enhanced response generated successfully!\n\n\uD83D\uDCAC Response Preview: \n                        \uD83D\uDD0D **Key Findings Summary:**\n                        Despite the lack of specific risk data for Shanghai port, a comprehensive analysis of shipping routes and recent disasters ...\n============================================================\n\n\uD83D\uDCDD Test 2/5: 'Analyze the shipping route from Shanghai to Los Angeles with risk factors'\n----------------------------------------\n\uD83E\uDDE0 Processing query: 'Analyze the shipping route from Shanghai to Los Angeles with risk factors'\n\uD83E\uDD16 AI Analysis: TOOL: AnalyzeShippingRoute: Shanghai to Los Angeles\n\uD83D\uDD27 Using tool: AnalyzeShippingRoute with input: 'Shanghai to Los Angeles'\n\uD83D\uDCCA Tool result received (53 chars)\n✅ Enhanced response generated successfully!\n\n\uD83D\uDCAC Response Preview: \n        \uD83D\uDEA2 **Shipping Route Analysis: Shanghai to Los Angeles**\n\n1. **Key Findings Summary:**\n   - The shipping route from Shanghai to Los Angeles faces moderate to high risk levels due to various fac...\n============================================================\n\n\uD83D\uDCDD Test 3/5: 'Show me recent natural disasters in Asia that could affect shipping'\n----------------------------------------\n\uD83E\uDDE0 Processing query: 'Show me recent natural disasters in Asia that could affect shipping'\n\uD83E\uDD16 AI Analysis: TOOL: GetRecentDisasters: Asia\n\uD83D\uDD27 Using tool: GetRecentDisasters with input: 'Asia'\n\uD83D\uDCCA Tool result received (50 chars)\n✅ Enhanced response generated successfully!\n\n\uD83D\uDCAC Response Preview: \n**Key Findings Summary:**\nNo recent high-impact natural disasters have been detected in Asia that could affect shipping operations.\n\n\uD83C\uDF0D **Risk Analysis Overview:**\n- **Natural Disaster Impact:** Low r...\n============================================================\n\n\uD83D\uDCDD Test 4/5: 'Generate a comprehensive risk report for our supply chain operations'\n----------------------------------------\n\uD83E\uDDE0 Processing query: 'Generate a comprehensive risk report for our supply chain operations'\n\uD83E\uDD16 AI Analysis: DIRECT_RESPONSE: I will use the tool \"GenerateRiskReport\" to create a comprehensive risk report for your supply chain operations. This tool will provide detailed risk intelligence, including an executive summary and actionable insights to mitigate potential risks.\n✅ Direct response generated!\n\n\uD83D\uDCAC Response Preview: I will use the tool \"GenerateRiskReport\" to create a comprehensive risk report for your supply chain operations. This tool will provide detailed risk intelligence, including an executive summary and a...\n============================================================\n\n\uD83D\uDCDD Test 5/5: 'Compare the risks between Singapore and Rotterdam ports'\n----------------------------------------\n\uD83E\uDDE0 Processing query: 'Compare the risks between Singapore and Rotterdam ports'\n\uD83E\uDD16 AI Analysis: TOOL: CheckPortRisk: Singapore\nTOOL: CheckPortRisk: Rotterdam\n\uD83D\uDD27 Using tool: CheckPortRisk with input: 'Singapore'\n\uD83D\uDCCA Tool result received (468 chars)\n✅ Enhanced response generated successfully!\n\n\uD83D\uDCAC Response Preview: \n\uD83D\uDD0D **PORT RISK ANALYSIS: SINGAPORE vs ROTTERDAM**\n\n**Key Findings Summary:**\nSingapore Port:\n- Overall Risk: LOW (7.8%)\n- Disaster Risk: 0.8%\n- News Sentiment Risk: 0.0%\n- Capacity Rating: Very High\n\n...\n============================================================\n\n\uD83C\uDFAF Testing Interactive Function:\n\n\uD83D\uDC64 Question: What's the risk level for Singapore port?\n--------------------------------------------------\n\uD83E\uDDE0 Processing query: 'What's the risk level for Singapore port?'\n\uD83E\uDD16 AI Analysis: TOOL: CheckPortRisk: Singapore\n\uD83D\uDD27 Using tool: CheckPortRisk with input: 'Singapore'\n\uD83D\uDCCA Tool result received (468 chars)\n✅ Enhanced response generated successfully!\n\n\uD83E\uDD16 Assistant: \n\uD83D\uDEA2 **PORT RISK ANALYSIS: SINGAPORE**\n\n**Key Findings Summary:**\nSingapore port currently presents a low overall risk level of 7.8%. The disaster risk is minimal at 0.8%, with no recent negative news sentiment affecting the port. The port's capacity rating is very high, indicating robust operational capabilities.\n\n\uD83C\uDF0D **Risk Overview:**\n- **Overall Risk:** LOW (7.8%)\n- **Disaster Risk:** 0.8%\n- **News Sentiment Risk:** 0.0%\n\n\uD83D\uDCCA **Risk Breakdown:**\n- **Disaster Risk:** Minimal impact at 0.8%\n- **News Sentiment Risk:** No negative news affecting the port\n- **Capacity Rating:** Very High\n\n\uD83D\uDCC8 **Activity Metrics:**\n- **Nearby Disasters:** 1\n- **Recent News Mentions:** 0\n\n\uD83D\uDCC5 **Data Source & Timeliness:**\n- Data last updated on: 2025-10-06\n\n**Actionable Recommendations:**\n- **Enhance Disaster Preparedness:**\n  - Review and update disaster response plans to mitigate the minimal disaster risk.\n- **Monitor News Continuously:**\n  - Stay vigilant for any emerging negative news that could impact operations.\n- **Utilize High Capacity Rating:**\n  - Leverage the port's very high capacity rating to optimize supply chain efficiency.\n- **Stay Informed:**\n  - Regularly check for updates on nearby disasters and news mentions to proactively manage any potential risks.\n\n**Source:** CheckPortRisk tool provides real-time insights into the risk profile of Singapore port, ensuring up-to-date information for strategic decision-making in the supply chain management.\n"
     ]
    },
    {
     "output_type": "execute_result",
     "data": {
      "text/plain": [
       "\"\\n\uD83D\uDEA2 **PORT RISK ANALYSIS: SINGAPORE**\\n\\n**Key Findings Summary:**\\nSingapore port currently presents a low overall risk level of 7.8%. The disaster risk is minimal at 0.8%, with no recent negative news sentiment affecting the port. The port's capacity rating is very high, indicating robust operational capabilities.\\n\\n\uD83C\uDF0D **Risk Overview:**\\n- **Overall Risk:** LOW (7.8%)\\n- **Disaster Risk:** 0.8%\\n- **News Sentiment Risk:** 0.0%\\n\\n\uD83D\uDCCA **Risk Breakdown:**\\n- **Disaster Risk:** Minimal impact at 0.8%\\n- **News Sentiment Risk:** No negative news affecting the port\\n- **Capacity Rating:** Very High\\n\\n\uD83D\uDCC8 **Activity Metrics:**\\n- **Nearby Disasters:** 1\\n- **Recent News Mentions:** 0\\n\\n\uD83D\uDCC5 **Data Source & Timeliness:**\\n- Data last updated on: 2025-10-06\\n\\n**Actionable Recommendations:**\\n- **Enhance Disaster Preparedness:**\\n  - Review and update disaster response plans to mitigate the minimal disaster risk.\\n- **Monitor News Continuously:**\\n  - Stay vigilant for any emerging negative news that could impact operations.\\n- **Utilize High Capacity Rating:**\\n  - Leverage the port's very high capacity rating to optimize supply chain efficiency.\\n- **Stay Informed:**\\n  - Regularly check for updates on nearby disasters and news mentions to proactively manage any potential risks.\\n\\n**Source:** CheckPortRisk tool provides real-time insights into the risk profile of Singapore port, ensuring up-to-date information for strategic decision-making in the supply chain management.\""
      ]
     },
     "execution_count": 38,
     "metadata": {},
     "output_type": "execute_result"
    }
   ],
   "source": [
    "# Replace the EnhancedSupplyChainAgent class in Notebook 4 with this CORRECTED version:\n",
    "\n",
    "class EnhancedSupplyChainAgent:\n",
    "    def __init__(self, llm, tools):\n",
    "        self.llm = llm\n",
    "        self.tools = {tool.name: tool for tool in tools}\n",
    "        self.conversation_history = []\n",
    "        \n",
    "        self.system_prompt = \"\"\"\n",
    "        You are a Supply Chain Risk Analysis Assistant. Analyze supply chain disruptions and use available tools when needed.\n",
    "        \n",
    "        TOOLS AVAILABLE:\n",
    "        - CheckPortRisk: Check detailed risk level of specific ports including news sentiment and disaster proximity\n",
    "        - AnalyzeShippingRoute: Comprehensive analysis of shipping routes with risk scores and recommendations  \n",
    "        - GetRecentDisasters: Get recent natural disasters with impact analysis and supply chain implications\n",
    "        - GenerateRiskReport: Generate comprehensive risk intelligence reports with executive summaries\n",
    "        \n",
    "        RESPONSE FORMAT:\n",
    "        - When you need specific data, respond with: TOOL: tool_name: input_value\n",
    "        - For direct responses: DIRECT_RESPONSE: your_answer\n",
    "        \n",
    "        GUIDELINES:\n",
    "        - Always use tools when specific data is needed\n",
    "        - Provide structured, actionable insights\n",
    "        - Use emojis and sections for readability\n",
    "        - Include specific percentages and risk scores\n",
    "        - Offer practical recommendations\n",
    "        \"\"\"\n",
    "    \n",
    "    def run(self, query):\n",
    "        try:\n",
    "            print(f\"\uD83E\uDDE0 Processing query: '{query}'\")\n",
    "            self.conversation_history.append(f\"User: {query}\")\n",
    "            \n",
    "            # First, determine if we need tools - FIXED: Use correct message format\n",
    "            messages = [\n",
    "                {\"role\": \"system\", \"content\": self.system_prompt},\n",
    "                {\"role\": \"user\", \"content\": f\"\"\"\n",
    "                User Query: {query}\n",
    "                \n",
    "                Analyze if this query requires specific data from our tools.\n",
    "                Available tools: {list(self.tools.keys())}\n",
    "                \n",
    "                Respond with:\n",
    "                - \"DIRECT_RESPONSE: [your answer]\" if no tools needed\n",
    "                - \"TOOL: tool_name: input\" if you need tool data\n",
    "                \n",
    "                Be strategic about tool usage. Use tools when specific port data, route analysis, disaster info, or comprehensive reports are needed.\n",
    "                \"\"\"}\n",
    "            ]\n",
    "            \n",
    "            response = self.llm.invoke(messages)\n",
    "            content = response.content\n",
    "            print(f\"\uD83E\uDD16 AI Analysis: {content}\")\n",
    "            \n",
    "            if \"TOOL:\" in content:\n",
    "                # Extract and execute tool\n",
    "                tool_line = content.split(\"TOOL:\")[1].split(\"\\n\")[0].strip()\n",
    "                tool_name, tool_input = tool_line.split(\":\", 1)\n",
    "                tool_name = tool_name.strip()\n",
    "                tool_input = tool_input.strip()\n",
    "                \n",
    "                if tool_name in self.tools:\n",
    "                    print(f\"\uD83D\uDD27 Using tool: {tool_name} with input: '{tool_input}'\")\n",
    "                    tool_result = self.tools[tool_name].func(tool_input)\n",
    "                    print(f\"\uD83D\uDCCA Tool result received ({len(tool_result)} chars)\")\n",
    "                    \n",
    "                    # Generate final response with tool results\n",
    "                    final_messages = [\n",
    "                        {\"role\": \"system\", \"content\": self.system_prompt},\n",
    "                        {\"role\": \"user\", \"content\": f\"\"\"\n",
    "                        ORIGINAL QUERY: {query}\n",
    "                        TOOL USED: {tool_name}({tool_input})\n",
    "                        TOOL RESULT: {tool_result}\n",
    "                        \n",
    "                        Provide a comprehensive, well-structured answer:\n",
    "                        1. Start with key findings summary\n",
    "                        2. Use sections with emojis for organization  \n",
    "                        3. Include specific risk scores and percentages\n",
    "                        4. Provide actionable recommendations\n",
    "                        5. Mention data sources and timeliness\n",
    "                        6. Use bullet points for readability\n",
    "                        \n",
    "                        Make it professional yet engaging for supply chain managers.\n",
    "                        \"\"\"}\n",
    "                    ]\n",
    "                    \n",
    "                    final_response = self.llm.invoke(final_messages)\n",
    "                    result = final_response.content\n",
    "                    self.conversation_history.append(f\"Assistant: {result}\")\n",
    "                    print(\"✅ Enhanced response generated successfully!\")\n",
    "                    return result\n",
    "                else:\n",
    "                    error_msg = f\"Error: Tool '{tool_name}' not found. Available tools: {list(self.tools.keys())}\"\n",
    "                    print(f\"❌ {error_msg}\")\n",
    "                    return error_msg\n",
    "            \n",
    "            elif \"DIRECT_RESPONSE:\" in content:\n",
    "                # Return direct response\n",
    "                result = content.split(\"DIRECT_RESPONSE:\")[1].strip()\n",
    "                self.conversation_history.append(f\"Assistant: {result}\")\n",
    "                print(\"✅ Direct response generated!\")\n",
    "                return result\n",
    "            \n",
    "            else:\n",
    "                # Fallback - return the raw response\n",
    "                print(\"⚠️ Using fallback response\")\n",
    "                self.conversation_history.append(f\"Assistant: {content}\")\n",
    "                return content\n",
    "                \n",
    "        except Exception as e:\n",
    "            error_msg = f\"❌ Error processing query: {str(e)}\"\n",
    "            print(error_msg)\n",
    "            self.conversation_history.append(f\"Error: {error_msg}\")\n",
    "            return error_msg\n",
    "\n",
    "    def get_conversation_history(self):\n",
    "        \"\"\"Get the conversation history\"\"\"\n",
    "        return self.conversation_history\n",
    "\n",
    "    def clear_history(self):\n",
    "        \"\"\"Clear conversation history\"\"\"\n",
    "        self.conversation_history = []\n",
    "        print(\"\uD83D\uDDD1️ Conversation history cleared\")\n",
    "\n",
    "# Initialize the enhanced agent with error handling\n",
    "if azure_ai_available:\n",
    "    try:\n",
    "        agent = EnhancedSupplyChainAgent(llm, tools)\n",
    "        print(\"✅ Enhanced Supply Chain Agent initialized successfully!\")\n",
    "        \n",
    "        # Test the enhanced agent with fixed syntax\n",
    "        def test_enhanced_agent():\n",
    "            print(\"\\n\" + \"=\"*60)\n",
    "            print(\"\uD83E\uDDEA TESTING ENHANCED SUPPLY CHAIN AGENT\")\n",
    "            print(\"=\"*60)\n",
    "            \n",
    "            test_queries = [\n",
    "                \"What's the current risk situation for Shanghai port?\",\n",
    "                \"Analyze the shipping route from Shanghai to Los Angeles with risk factors\",\n",
    "                \"Show me recent natural disasters in Asia that could affect shipping\",\n",
    "                \"Generate a comprehensive risk report for our supply chain operations\",\n",
    "                \"Compare the risks between Singapore and Rotterdam ports\"\n",
    "            ]\n",
    "            \n",
    "            for i, query in enumerate(test_queries, 1):\n",
    "                print(f\"\\n\uD83D\uDCDD Test {i}/5: '{query}'\")\n",
    "                print(\"-\" * 40)\n",
    "                try:\n",
    "                    response = agent.run(query)\n",
    "                    print(f\"\\n\uD83D\uDCAC Response Preview: {response[:200]}...\")\n",
    "                except Exception as e:\n",
    "                    print(f\"❌ Test {i} failed: {e}\")\n",
    "                print(\"=\"*60)\n",
    "                \n",
    "        # Run enhanced tests\n",
    "        test_enhanced_agent()\n",
    "        \n",
    "    except Exception as e:\n",
    "        print(f\"❌ Enhanced agent initialization failed: {e}\")\n",
    "        print(\"Trying fallback approach...\")\n",
    "        \n",
    "        # Fallback: Simple agent without tool orchestration\n",
    "        class SimpleSupplyChainAgent:\n",
    "            def __init__(self, tools):\n",
    "                self.tools = {tool.name: tool for tool in tools}\n",
    "            \n",
    "            def run(self, query):\n",
    "                # Simple rule-based tool selection\n",
    "                query_lower = query.lower()\n",
    "                \n",
    "                if any(port in query_lower for port in ['shanghai', 'singapore', 'rotterdam', 'los angeles', 'hong kong']):\n",
    "                    port_name = self.extract_port_name(query)\n",
    "                    return self.tools['CheckPortRisk'].func(port_name)\n",
    "                elif 'route' in query_lower or ' from ' in query_lower:\n",
    "                    route = self.extract_route(query)\n",
    "                    return self.tools['AnalyzeShippingRoute'].func(route)\n",
    "                elif 'disaster' in query_lower:\n",
    "                    region = self.extract_region(query)\n",
    "                    return self.tools['GetRecentDisasters'].func(region)\n",
    "                elif 'report' in query_lower:\n",
    "                    return self.tools['GenerateRiskReport'].func(\"comprehensive\")\n",
    "                else:\n",
    "                    return \"I can help you with port risks, shipping routes, disaster alerts, and risk reports. Please ask a specific question.\"\n",
    "            \n",
    "            def extract_port_name(self, query):\n",
    "                ports = ['shanghai', 'singapore', 'rotterdam', 'los angeles', 'hong kong', 'shenzhen', 'busan']\n",
    "                for port in ports:\n",
    "                    if port in query.lower():\n",
    "                        return port.title()\n",
    "                return \"Shanghai\"  # default\n",
    "            \n",
    "            def extract_route(self, query):\n",
    "                # Simple route extraction\n",
    "                if 'shanghai' in query.lower() and 'los angeles' in query.lower():\n",
    "                    return \"Shanghai, Los Angeles\"\n",
    "                elif 'singapore' in query.lower() and 'rotterdam' in query.lower():\n",
    "                    return \"Singapore, Rotterdam\"\n",
    "                else:\n",
    "                    return \"Shanghai, Los Angeles\"  # default\n",
    "            \n",
    "            def extract_region(self, query):\n",
    "                regions = ['asia', 'europe', 'america', 'africa']\n",
    "                for region in regions:\n",
    "                    if region in query.lower():\n",
    "                        return region.title()\n",
    "                return \"all\"\n",
    "        \n",
    "        agent = SimpleSupplyChainAgent(tools)\n",
    "        print(\"✅ Simple rule-based agent initialized as fallback\")\n",
    "else:\n",
    "    print(\"⚠️ Using mock agent mode - configure Azure OpenAI for full AI capabilities\")\n",
    "    agent = None\n",
    "\n",
    "# Interactive function\n",
    "def ask_supply_chain_question(question):\n",
    "    \"\"\"Interactive function to ask questions to the agent\"\"\"\n",
    "    if agent:\n",
    "        print(f\"\\n\uD83D\uDC64 Question: {question}\")\n",
    "        print(\"-\" * 50)\n",
    "        response = agent.run(question)\n",
    "        print(f\"\\n\uD83E\uDD16 Assistant: {response}\")\n",
    "        return response\n",
    "    else:\n",
    "        error_msg = \"❌ Agent not available. Please configure Azure OpenAI first.\"\n",
    "        print(error_msg)\n",
    "        return error_msg\n",
    "\n",
    "# Test the interactive function\n",
    "print(\"\\n\uD83C\uDFAF Testing Interactive Function:\")\n",
    "ask_supply_chain_question(\"What's the risk level for Singapore port?\")"
   ]
  },
  {
   "cell_type": "code",
   "execution_count": 0,
   "metadata": {
    "application/vnd.databricks.v1+cell": {
     "cellMetadata": {
      "byteLimit": 2048000,
      "rowLimit": 10000
     },
     "inputWidgets": {},
     "nuid": "c2eebcab-9353-4315-a75a-f17b307a08c5",
     "showTitle": false,
     "tableResultSettingsMap": {},
     "title": ""
    }
   },
   "outputs": [
    {
     "output_type": "stream",
     "name": "stdout",
     "output_type": "stream",
     "text": [
      "✅ Using enhanced AI agent for API\n\uD83D\uDE80 Starting Flask server on port 5001...\n * Serving Flask app 'app'\n * Debug mode: off\n"
     ]
    },
    {
     "output_type": "stream",
     "name": "stderr",
     "output_type": "stream",
     "text": [
      "WARNING:pyngrok.process.ngrok:t=2025-10-06T13:20:31+0000 lvl=warn msg=\"ngrok config file found at legacy location, move to XDG location\" xdg_path=/root/.config/ngrok/ngrok.yml legacy_path=/root/.ngrok2/ngrok.yml\n"
     ]
    },
    {
     "output_type": "stream",
     "name": "stdout",
     "output_type": "stream",
     "text": [
      "✅ Enhanced Flask API server started on port 5001\n✅ Ngrok authtoken configured\n\uD83C\uDF10 Public URL: https://preferable-margherita-undelegated.ngrok-free.dev\n\n\uD83D\uDCDA API ENDPOINTS:\n   Health Check: https://preferable-margherita-undelegated.ngrok-free.dev/api/health\n   Chat: https://preferable-margherita-undelegated.ngrok-free.dev/api/chat (POST)\n   Analyze Route: https://preferable-margherita-undelegated.ngrok-free.dev/api/analyze_route (POST)\n   Generate Report: https://preferable-margherita-undelegated.ngrok-free.dev/api/generate_report (POST)\n   Port Risks: https://preferable-margherita-undelegated.ngrok-free.dev/api/port_risks (GET)\n   PDF Report: https://preferable-margherita-undelegated.ngrok-free.dev/api/generate_pdf_report (GET)\n\n\uD83E\uDDEA Testing API connection...\n✅ API test successful!\n"
     ]
    }
   ],
   "source": [
    "from flask import Flask, request, jsonify, send_file\n",
    "from datetime import datetime\n",
    "import threading\n",
    "import io\n",
    "from reportlab.lib.pagesizes import letter\n",
    "from reportlab.platypus import SimpleDocTemplate, Paragraph, Spacer\n",
    "from reportlab.lib.styles import getSampleStyleSheet\n",
    "import time\n",
    "import requests\n",
    "\n",
    "# Create Flask App for REST API\n",
    "app = Flask('app')\n",
    "\n",
    "# Global agent instance with fallback\n",
    "if azure_ai_available and 'agent' in locals() and agent is not None:\n",
    "    global_agent = agent\n",
    "    print(\"✅ Using enhanced AI agent for API\")\n",
    "else:\n",
    "    # Create simple fallback agent\n",
    "    class SimpleAgent:\n",
    "        def __init__(self, tools):\n",
    "            self.tools = {tool.name: tool for tool in tools}\n",
    "        \n",
    "        def run(self, query):\n",
    "            query_lower = query.lower()\n",
    "            if any(port in query_lower for port in ['shanghai', 'singapore', 'rotterdam']):\n",
    "                return self.tools['CheckPortRisk'].func(\"Shanghai\")\n",
    "            elif 'route' in query_lower:\n",
    "                return self.tools['AnalyzeShippingRoute'].func(\"Shanghai, Los Angeles\")\n",
    "            elif 'disaster' in query_lower:\n",
    "                return self.tools['GetRecentDisasters'].func(\"Asia\")\n",
    "            elif 'report' in query_lower:\n",
    "                return self.tools['GenerateRiskReport'].func(\"comprehensive\")\n",
    "            else:\n",
    "                return \"I can analyze port risks, shipping routes, disasters, and generate reports. Please ask specifically about these topics.\"\n",
    "        \n",
    "        def clear_history(self):\n",
    "            return True\n",
    "    \n",
    "    global_agent = SimpleAgent(tools)\n",
    "    print(\"✅ Using simple fallback agent for API\")\n",
    "\n",
    "@app.route('/api/health', methods=['GET'])\n",
    "def health_check():\n",
    "    return jsonify({\n",
    "        \"status\": \"healthy\", \n",
    "        \"timestamp\": datetime.now().isoformat(),\n",
    "        \"ai_available\": azure_ai_available,  \n",
    "        \"agent_initialized\": azure_ai_available,  \n",
    "        \"agent_type\": \"enhanced\" if azure_ai_available else \"basic\", \n",
    "        \"service\": \"supply_chain_ai_api\"\n",
    "    })\n",
    "\n",
    "@app.route('/api/chat', methods=['POST'])\n",
    "def chat_with_agent():\n",
    "    \"\"\"Enhanced chat endpoint with the AI agent\"\"\"\n",
    "    try:\n",
    "        data = request.get_json()\n",
    "        if not data:\n",
    "            return jsonify({\"error\": \"No JSON data provided\"}), 400\n",
    "            \n",
    "        user_message = data.get('message', '')\n",
    "        \n",
    "        if not user_message:\n",
    "            return jsonify({\"error\": \"No message provided\"}), 400\n",
    "        \n",
    "        if global_agent:\n",
    "            response = global_agent.run(user_message)\n",
    "            \n",
    "            return jsonify({\n",
    "                \"success\": True,\n",
    "                \"response\": response,\n",
    "                \"timestamp\": datetime.now().isoformat(),\n",
    "                \"agent_type\": \"enhanced\" if azure_ai_available else \"simple\"\n",
    "            })\n",
    "        else:\n",
    "            return jsonify({\n",
    "                \"success\": False,\n",
    "                \"error\": \"No agent available\",\n",
    "                \"timestamp\": datetime.now().isoformat()\n",
    "            }), 500\n",
    "            \n",
    "    except Exception as e:\n",
    "        return jsonify({\"success\": False, \"error\": str(e)}), 500\n",
    "\n",
    "@app.route('/api/clear_history', methods=['POST'])\n",
    "def clear_chat_history():\n",
    "    \"\"\"Clear conversation history\"\"\"\n",
    "    try:\n",
    "        if hasattr(global_agent, 'clear_history'):\n",
    "            global_agent.clear_history()\n",
    "            return jsonify({\"success\": True, \"message\": \"Conversation history cleared\"})\n",
    "        else:\n",
    "            return jsonify({\"success\": True, \"message\": \"History cleared (simple agent)\"})\n",
    "    except Exception as e:\n",
    "        return jsonify({\"success\": False, \"error\": str(e)}), 500\n",
    "\n",
    "@app.route('/api/analyze_route', methods=['POST'])\n",
    "def analyze_route_enhanced():\n",
    "    \"\"\"Enhanced route analysis using the agent\"\"\"\n",
    "    try:\n",
    "        data = request.get_json()\n",
    "        if not data:\n",
    "            return jsonify({\"error\": \"No JSON data provided\"}), 400\n",
    "            \n",
    "        origin = data.get('origin', 'Shanghai')\n",
    "        destination = data.get('destination', 'Los Angeles')\n",
    "        \n",
    "        if global_agent:\n",
    "            response = global_agent.run(f\"Analyze shipping route from {origin} to {destination} with detailed risk factors\")\n",
    "            return jsonify({\n",
    "                \"success\": True,\n",
    "                \"analysis\": response,\n",
    "                \"route\": f\"{origin} → {destination}\",\n",
    "                \"timestamp\": datetime.now().isoformat()\n",
    "            })\n",
    "        else:\n",
    "            # Fallback to direct tool\n",
    "            result = analyze_shipping_route_tool(f\"{origin}, {destination}\")\n",
    "            return jsonify({\n",
    "                \"success\": True,\n",
    "                \"analysis\": result,\n",
    "                \"route\": f\"{origin} → {destination}\",\n",
    "                \"timestamp\": datetime.now().isoformat(),\n",
    "                \"agent_used\": False\n",
    "            })\n",
    "    except Exception as e:\n",
    "        return jsonify({\"success\": False, \"error\": str(e)}), 500\n",
    "\n",
    "@app.route('/api/generate_report', methods=['POST'])\n",
    "def generate_enhanced_report():\n",
    "    \"\"\"Generate enhanced risk report using the agent\"\"\"\n",
    "    try:\n",
    "        data = request.get_json()\n",
    "        if not data:\n",
    "            return jsonify({\"error\": \"No JSON data provided\"}), 400\n",
    "            \n",
    "        report_type = data.get('report_type', 'comprehensive')\n",
    "        \n",
    "        if global_agent:\n",
    "            response = global_agent.run(f\"Generate a {report_type} risk intelligence report for supply chain operations\")\n",
    "            return jsonify({\n",
    "                \"success\": True,\n",
    "                \"report\": response,\n",
    "                \"report_type\": report_type,\n",
    "                \"timestamp\": datetime.now().isoformat(),\n",
    "                \"agent_used\": True\n",
    "            })\n",
    "        else:\n",
    "            result = generate_risk_report_tool(report_type)\n",
    "            return jsonify({\n",
    "                \"success\": True,\n",
    "                \"report\": result,\n",
    "                \"report_type\": report_type,\n",
    "                \"timestamp\": datetime.now().isoformat(),\n",
    "                \"agent_used\": False\n",
    "            })\n",
    "    except Exception as e:\n",
    "        return jsonify({\"success\": False, \"error\": str(e)}), 500\n",
    "\n",
    "# Include previous API endpoints\n",
    "@app.route('/api/port_risks', methods=['GET'])\n",
    "def get_port_risks():\n",
    "    try:\n",
    "        risks_df = spark.sql(\"\"\"\n",
    "            SELECT port_name, country, region, risk_level, \n",
    "                   overall_risk, disaster_risk, news_risk,\n",
    "                   nearby_disasters_count, news_mentions, calculated_at\n",
    "            FROM supply_chain_analysis.port_risk_scores\n",
    "            ORDER BY overall_risk DESC\n",
    "        \"\"\")\n",
    "        risks_data = [row.asDict() for row in risks_df.collect()]\n",
    "        return jsonify({\"success\": True, \"data\": risks_data, \"count\": len(risks_data)})\n",
    "    except Exception as e:\n",
    "        return jsonify({\"success\": False, \"error\": str(e)}), 500\n",
    "\n",
    "@app.route('/api/generate_pdf_report', methods=['GET'])\n",
    "def generate_pdf_report():\n",
    "    \"\"\"Generate PDF report\"\"\"\n",
    "    try:\n",
    "        buffer = io.BytesIO()\n",
    "        doc = SimpleDocTemplate(buffer, pagesize=letter)\n",
    "        styles = getSampleStyleSheet()\n",
    "        story = []\n",
    "        \n",
    "        # Title\n",
    "        title = Paragraph(\"Enhanced Supply Chain Risk Intelligence Report\", styles['Title'])\n",
    "        story.append(title)\n",
    "        story.append(Spacer(1, 12))\n",
    "        \n",
    "        # Generate content using agent if available\n",
    "        if global_agent:\n",
    "            report_content = global_agent.run(\"Generate a comprehensive risk report suitable for PDF formatting\")\n",
    "        else:\n",
    "            report_content = generate_risk_report_tool(\"comprehensive\")\n",
    "        \n",
    "        # Add content to PDF\n",
    "        content_paragraph = Paragraph(report_content.replace('\\n', '<br/>'), styles['Normal'])\n",
    "        story.append(content_paragraph)\n",
    "        \n",
    "        # Build PDF\n",
    "        doc.build(story)\n",
    "        buffer.seek(0)\n",
    "        \n",
    "        return send_file(\n",
    "            buffer,\n",
    "            as_attachment=True,\n",
    "            download_name=f\"enhanced_supply_chain_report_{datetime.now().strftime('%Y%m%d_%H%M')}.pdf\",\n",
    "            mimetype='application/pdf'\n",
    "        )\n",
    "        \n",
    "    except Exception as e:\n",
    "        return jsonify({\"error\": str(e)}), 500\n",
    "\n",
    "# Start Flask server on a different port\n",
    "def start_flask_app():\n",
    "    try:\n",
    "        print(\"\uD83D\uDE80 Starting Flask server on port 5001...\")\n",
    "        import logging\n",
    "        \n",
    "        # Configure logging\n",
    "        log = logging.getLogger('werkzeug')\n",
    "        log.setLevel(logging.ERROR)\n",
    "        \n",
    "        # Start the server on port 5001\n",
    "        app.run(host='0.0.0.0', port=5001, debug=False, use_reloader=False, threaded=True)\n",
    "        \n",
    "    except Exception as e:\n",
    "        print(f\"❌ Flask server error: {e}\")\n",
    "\n",
    "# Start the Flask server in a thread\n",
    "try:\n",
    "    flask_thread = threading.Thread(target=start_flask_app)\n",
    "    flask_thread.daemon = True\n",
    "    flask_thread.start()\n",
    "    \n",
    "    # Wait a moment for the server to start\n",
    "    time.sleep(3)\n",
    "    print(\"✅ Enhanced Flask API server started on port 5001\")\n",
    "    \n",
    "except Exception as e:\n",
    "    print(f\"❌ Failed to start Flask server: {e}\")\n",
    "\n",
    "# Ngrok connection with authentication - FIXED\n",
    "try:\n",
    "    from pyngrok import ngrok\n",
    "    \n",
    "    # Set your ngrok authtoken\n",
    "    NGROK_AUTHTOKEN = \"33exiq1Q5BskAcRueJ7Tk3SvZqU_5jgZG2QxJQ2Di6snzXtr3\"\n",
    "    \n",
    "    # Configure ngrok with your token\n",
    "    ngrok.set_auth_token(NGROK_AUTHTOKEN)\n",
    "    print(\"✅ Ngrok authtoken configured\")\n",
    "    \n",
    "    # Kill any existing tunnels\n",
    "    ngrok.kill()\n",
    "    \n",
    "    # Create new tunnel on port 5001\n",
    "    http_tunnel = ngrok.connect(5001, bind_tls=True)\n",
    "    public_url = http_tunnel.public_url\n",
    "    \n",
    "    print(f\"\uD83C\uDF10 Public URL: {public_url}\")\n",
    "    \n",
    "    # Display API documentation\n",
    "    print(\"\\n\uD83D\uDCDA API ENDPOINTS:\")\n",
    "    print(f\"   Health Check: {public_url}/api/health\")\n",
    "    print(f\"   Chat: {public_url}/api/chat (POST)\")\n",
    "    print(f\"   Analyze Route: {public_url}/api/analyze_route (POST)\")\n",
    "    print(f\"   Generate Report: {public_url}/api/generate_report (POST)\")\n",
    "    print(f\"   Port Risks: {public_url}/api/port_risks (GET)\")\n",
    "    print(f\"   PDF Report: {public_url}/api/generate_pdf_report (GET)\")\n",
    "    \n",
    "    # Test the API\n",
    "    print(\"\\n\uD83E\uDDEA Testing API connection...\")\n",
    "    try:\n",
    "        response = requests.get(f\"{public_url}/api/health\", timeout=10)\n",
    "        if response.status_code == 200:\n",
    "            print(\"✅ API test successful!\")\n",
    "        else:\n",
    "            print(f\"⚠️ API test returned status: {response.status_code}\")\n",
    "    except Exception as e:\n",
    "        print(f\"⚠️ API test failed: {e}\")\n",
    "    \n",
    "except Exception as e:\n",
    "    print(f\"⚠️ Ngrok connection failed: {e}\")\n",
    "    print(\"\uD83D\uDD27 You can still access the API locally at: http://localhost:5001\")\n",
    "    public_url = \"http://localhost:5001\"\n",
    "    \n",
    "    # Display local API documentation\n",
    "    print(\"\\n\uD83D\uDCDA LOCAL API ENDPOINTS:\")\n",
    "    print(\"   Health Check: http://localhost:5001/api/health\")\n",
    "    print(\"   Chat: http://localhost:5001/api/chat (POST)\")\n",
    "    print(\"   Analyze Route: http://localhost:5001/api/analyze_route (POST)\")\n",
    "    print(\"   Generate Report: http://localhost:5001/api/generate_report (POST)\")\n",
    "    print(\"   Port Risks: http://localhost:5001/api/port_risks (GET)\")\n",
    "    print(\"   PDF Report: http://localhost:5001/api/generate_pdf_report (GET)\")"
   ]
  },
  {
   "cell_type": "code",
   "execution_count": 0,
   "metadata": {
    "application/vnd.databricks.v1+cell": {
     "cellMetadata": {
      "byteLimit": 2048000,
      "rowLimit": 10000
     },
     "inputWidgets": {},
     "nuid": "cd3ea975-f7cd-42c7-be8c-ed7f8df53462",
     "showTitle": false,
     "tableResultSettingsMap": {},
     "title": ""
    }
   },
   "outputs": [
    {
     "output_type": "stream",
     "name": "stdout",
     "output_type": "stream",
     "text": [
      "\uD83D\uDE80 ENHANCED DEPLOYMENT COMPLETE!\n============================================================\n\uD83C\uDF10 API Base URL: https://preferable-margherita-undelegated.ngrok-free.dev\n\uD83E\uDD16 AI Agent Status: ✅ Active with Enhanced Architecture\n\uD83D\uDEE0️ Agent Features: Tool-based reasoning, Conversation history, Enhanced analytics\n\n\uD83D\uDCE1 Enhanced API Endpoints:\n   • POST /api/chat - Chat with enhanced AI agent\n   • POST /api/analyze_route - Enhanced route analysis\n   • POST /api/generate_report - AI-generated reports\n   • POST /api/clear_history - Clear conversation history\n   • GET  /api/generate_pdf_report - Download PDF report\n   • GET  /api/port_risks - All port risks\n\n\uD83D\uDD27 Enhanced Tools:\n   • CheckPortRisk - Detailed port analytics with news sentiment\n   • AnalyzeShippingRoute - Comprehensive route risk analysis\n   • GetRecentDisasters - Disaster impact analysis with supply chain focus\n   • GenerateRiskReport - Executive-level intelligence reports\n\n\uD83D\uDCA1 Example Usage:\n   Ask: 'What's the risk for Shanghai and compare with Singapore?'\n   Ask: 'Analyze route from Rotterdam to Hong Kong with disaster risks'\n   Ask: 'Generate executive report for Asian supply chain risks'\n\n\uD83E\uDDEA Testing API Endpoints:\nBase URL: https://preferable-margherita-undelegated.ngrok-free.dev\n✅ Health Check: Status: healthy, Agent: enhanced\n\uD83E\uDDE0 Processing query: 'What's the risk for Shanghai port?'\n\uD83E\uDD16 AI Analysis: TOOL: CheckPortRisk: Shanghai port\n\uD83D\uDD27 Using tool: CheckPortRisk with input: 'Shanghai port'\n\uD83D\uDCCA Tool result received (44 chars)\n✅ Enhanced response generated successfully!\n✅ Chat API: enhanced agent responded successfully\n   Response preview: \n**Key Findings Summary:**\nBased on the analysis conducted, no specific risk data was found for the ...\n✅ Port Risks API: 19 ports loaded\n\n\uD83C\uDFAF Your Supply Chain AI Platform is LIVE!\n\uD83D\uDCF1 Share this URL: https://preferable-margherita-undelegated.ngrok-free.dev\n\uD83D\uDCBC Ready for Streamlit integration and production use!\n\n\uD83D\uDD04 Enhanced API Server running...\nPress Ctrl+C to stop\n\n\uD83D\uDD17 Active tunnel: https://preferable-margherita-undelegated.ngrok-free.dev\n\uD83D\uDCCA Monitoring API traffic...\n✅ Server healthy - 13:21:10\n✅ Server healthy - 13:21:40\n✅ Server healthy - 13:22:11\n✅ Server healthy - 13:22:41\n✅ Server healthy - 13:23:12\n✅ Server healthy - 13:23:42\n✅ Server healthy - 13:24:13\n✅ Server healthy - 13:24:43\n✅ Server healthy - 13:25:13\n✅ Server healthy - 13:25:44\n✅ Server healthy - 13:26:14\n✅ Server healthy - 13:26:45\n✅ Server healthy - 13:27:15\n✅ Server healthy - 13:27:46\n✅ Server healthy - 13:28:16\n✅ Server healthy - 13:28:47\n✅ Server healthy - 13:29:17\n✅ Server healthy - 13:29:47\n✅ Server healthy - 13:30:18\n✅ Server healthy - 13:30:48\n✅ Server healthy - 13:31:19\n✅ Server healthy - 13:31:49\n✅ Server healthy - 13:32:20\n✅ Server healthy - 13:32:50\n✅ Server healthy - 13:33:21\n✅ Server healthy - 13:33:51\n✅ Server healthy - 13:34:22\n✅ Server healthy - 13:34:52\n✅ Server healthy - 13:35:22\n✅ Server healthy - 13:35:53\n✅ Server healthy - 13:36:23\n✅ Server healthy - 13:36:54\n✅ Server healthy - 13:37:24\n✅ Server healthy - 13:37:55\n✅ Server healthy - 13:38:25\n✅ Server healthy - 13:38:56\n✅ Server healthy - 13:39:26\n✅ Server healthy - 13:39:57\n✅ Server healthy - 13:40:27\n✅ Server healthy - 13:40:57\n✅ Server healthy - 13:41:28\n✅ Server healthy - 13:41:58\n✅ Server healthy - 13:42:29\n✅ Server healthy - 13:42:59\n✅ Server healthy - 13:43:30\n✅ Server healthy - 13:44:00\n✅ Server healthy - 13:44:31\n✅ Server healthy - 13:45:01\n✅ Server healthy - 13:45:31\n✅ Server healthy - 13:46:02\n✅ Server healthy - 13:46:32\n✅ Server healthy - 13:47:03\n✅ Server healthy - 13:47:33\n✅ Server healthy - 13:48:04\n✅ Server healthy - 13:48:34\n✅ Server healthy - 13:49:05\n✅ Server healthy - 13:49:35\n✅ Server healthy - 13:50:05\n✅ Server healthy - 13:50:36\n\uD83E\uDDE0 Processing query: 'Analyze shipping route from Shenzhen to Hong Kong with detailed risk factors'\n\uD83E\uDD16 AI Analysis: TOOL: AnalyzeShippingRoute: Shenzhen to Hong Kong\n\uD83D\uDD27 Using tool: AnalyzeShippingRoute with input: 'Shenzhen to Hong Kong'\n\uD83D\uDCCA Tool result received (53 chars)\n✅ Enhanced response generated successfully!\n✅ Server healthy - 13:51:06\n\uD83E\uDDE0 Processing query: 'Generate a custom risk intelligence report focusing on: geopolitical factors'\n\uD83E\uDD16 AI Analysis: DIRECT_RESPONSE: To generate a custom risk intelligence report focusing on geopolitical factors, we do not need specific data from our tools. This analysis can be conducted based on existing knowledge and research on geopolitical events, relationships between countries, trade agreements, and political stability in key regions.\n✅ Direct response generated!\n✅ Server healthy - 13:51:37\n\uD83E\uDDE0 Processing query: 'Generate a comprehensive analysis risk intelligence report for supply chain operations'\n\uD83E\uDD16 AI Analysis: TOOL: GenerateRiskReport: Supply Chain Operations\n\uD83D\uDD27 Using tool: GenerateRiskReport with input: 'Supply Chain Operations'\n\uD83D\uDCCA Tool result received (2195 chars)\n✅ Server healthy - 13:52:07\n✅ Enhanced response generated successfully!\n\uD83E\uDDE0 Processing query: 'Generate a comprehensive risk report suitable for PDF formatting'\n\uD83E\uDD16 AI Analysis: DIRECT_RESPONSE: I will use the tool \"GenerateRiskReport\" to create a comprehensive risk report suitable for PDF formatting.\n✅ Direct response generated!\n✅ Server healthy - 13:52:38\n✅ Server healthy - 13:53:08\n✅ Server healthy - 13:53:39\n"
     ]
    },
    {
     "output_type": "display_data",
     "data": {
      "text/html": [
       "<style scoped>\n",
       "  .ansiout {\n",
       "    display: block;\n",
       "    unicode-bidi: embed;\n",
       "    white-space: pre-wrap;\n",
       "    word-wrap: break-word;\n",
       "    word-break: break-all;\n",
       "    font-family: \"Menlo\", \"Monaco\", \"Consolas\", \"Ubuntu Mono\", \"Source Code Pro\", monospace;\n",
       "    font-size: 13px;\n",
       "    color: #555;\n",
       "    margin-left: 4px;\n",
       "    line-height: 19px;\n",
       "  }\n",
       "</style>"
      ]
     },
     "metadata": {
      "application/vnd.databricks.v1+output": {
       "arguments": {},
       "data": "",
       "errorSummary": "Cancelled",
       "errorTraceType": "html",
       "metadata": {},
       "type": "ipynbError"
      }
     },
     "output_type": "display_data"
    }
   ],
   "source": [
    "print(\"\uD83D\uDE80 ENHANCED DEPLOYMENT COMPLETE!\")\n",
    "print(\"=\" * 60)\n",
    "print(f\"\uD83C\uDF10 API Base URL: {public_url}\")\n",
    "print(\"\uD83E\uDD16 AI Agent Status: \" + (\"✅ Active with Enhanced Architecture\" if azure_ai_available else \"⚠️ Simple Fallback Mode\"))\n",
    "print(\"\uD83D\uDEE0️ Agent Features: Tool-based reasoning, Conversation history, Enhanced analytics\")\n",
    "\n",
    "print(\"\\n\uD83D\uDCE1 Enhanced API Endpoints:\")\n",
    "print(\"   • POST /api/chat - Chat with enhanced AI agent\")\n",
    "print(\"   • POST /api/analyze_route - Enhanced route analysis\")\n",
    "print(\"   • POST /api/generate_report - AI-generated reports\")\n",
    "print(\"   • POST /api/clear_history - Clear conversation history\")\n",
    "print(\"   • GET  /api/generate_pdf_report - Download PDF report\")\n",
    "print(\"   • GET  /api/port_risks - All port risks\")\n",
    "\n",
    "print(\"\\n\uD83D\uDD27 Enhanced Tools:\")\n",
    "print(\"   • CheckPortRisk - Detailed port analytics with news sentiment\")\n",
    "print(\"   • AnalyzeShippingRoute - Comprehensive route risk analysis\")\n",
    "print(\"   • GetRecentDisasters - Disaster impact analysis with supply chain focus\")\n",
    "print(\"   • GenerateRiskReport - Executive-level intelligence reports\")\n",
    "\n",
    "print(\"\\n\uD83D\uDCA1 Example Usage:\")\n",
    "print(\"   Ask: 'What's the risk for Shanghai and compare with Singapore?'\")\n",
    "print(\"   Ask: 'Analyze route from Rotterdam to Hong Kong with disaster risks'\")\n",
    "print(\"   Ask: 'Generate executive report for Asian supply chain risks'\")\n",
    "\n",
    "# Test the API endpoints\n",
    "print(f\"\\n\uD83E\uDDEA Testing API Endpoints:\")\n",
    "print(f\"Base URL: {public_url}\")\n",
    "\n",
    "# Test health endpoint\n",
    "try:\n",
    "    health_response = requests.get(f\"{public_url}/api/health\")\n",
    "    if health_response.status_code == 200:\n",
    "        health_data = health_response.json()\n",
    "        print(f\"✅ Health Check: Status: {health_data['status']}, Agent: {health_data['agent_type']}\")\n",
    "    else:\n",
    "        print(f\"❌ Health check failed: {health_response.status_code}\")\n",
    "except Exception as e:\n",
    "    print(f\"❌ Health check failed: {e}\")\n",
    "\n",
    "# Test chat endpoint\n",
    "try:\n",
    "    chat_response = requests.post(f\"{public_url}/api/chat\", json={\"message\": \"What's the risk for Shanghai port?\"})\n",
    "    if chat_response.status_code == 200:\n",
    "        data = chat_response.json()\n",
    "        print(f\"✅ Chat API: {data['agent_type']} agent responded successfully\")\n",
    "        print(f\"   Response preview: {data['response'][:100]}...\")\n",
    "    else:\n",
    "        print(f\"❌ Chat API failed: {chat_response.status_code} - {chat_response.text}\")\n",
    "except Exception as e:\n",
    "    print(f\"❌ Chat API test failed: {e}\")\n",
    "\n",
    "# Test port risks endpoint\n",
    "try:\n",
    "    risks_response = requests.get(f\"{public_url}/api/port_risks\")\n",
    "    if risks_response.status_code == 200:\n",
    "        risks_data = risks_response.json()\n",
    "        print(f\"✅ Port Risks API: {risks_data['count']} ports loaded\")\n",
    "    else:\n",
    "        print(f\"❌ Port risks API failed: {risks_response.status_code}\")\n",
    "except Exception as e:\n",
    "    print(f\"❌ Port risks API test failed: {e}\")\n",
    "\n",
    "print(f\"\\n\uD83C\uDFAF Your Supply Chain AI Platform is LIVE!\")\n",
    "print(f\"\uD83D\uDCF1 Share this URL: {public_url}\")\n",
    "print(\"\uD83D\uDCBC Ready for Streamlit integration and production use!\")\n",
    "\n",
    "# Keep the API running\n",
    "import time\n",
    "print(\"\\n\uD83D\uDD04 Enhanced API Server running...\")\n",
    "print(\"Press Ctrl+C to stop\")\n",
    "\n",
    "try:\n",
    "    # Display active connections\n",
    "    print(f\"\\n\uD83D\uDD17 Active tunnel: {public_url}\")\n",
    "    print(\"\uD83D\uDCCA Monitoring API traffic...\")\n",
    "    \n",
    "    while True:\n",
    "        time.sleep(30)\n",
    "        # Optional: Periodic health check\n",
    "        try:\n",
    "            health = requests.get(f\"{public_url}/api/health\", timeout=5)\n",
    "            if health.status_code == 200:\n",
    "                print(f\"✅ Server healthy - {datetime.now().strftime('%H:%M:%S')}\")\n",
    "            else:\n",
    "                print(f\"⚠️ Server issue - Status: {health.status_code}\")\n",
    "        except:\n",
    "            print(f\"⚠️ Health check failed at {datetime.now().strftime('%H:%M:%S')}\")\n",
    "            \n",
    "except KeyboardInterrupt:\n",
    "    print(\"\\n\uD83D\uDED1 Stopping enhanced server...\")\n",
    "    try:\n",
    "        # Only disconnect if we have a ngrok tunnel object\n",
    "        if 'http_tunnel' in locals():\n",
    "            ngrok.disconnect(http_tunnel.public_url)\n",
    "            print(\"✅ Ngrok tunnel disconnected\")\n",
    "    except:\n",
    "        print(\"ℹ️ No ngrok tunnel to disconnect\")\n",
    "    print(\"\uD83C\uDFAF Deployment completed successfully!\")"
   ]
  },
  {
   "cell_type": "code",
   "execution_count": 0,
   "metadata": {
    "application/vnd.databricks.v1+cell": {
     "cellMetadata": {
      "byteLimit": 2048000,
      "rowLimit": 10000
     },
     "inputWidgets": {},
     "nuid": "d6fd0052-de58-4a01-85c3-4eb76efe3a17",
     "showTitle": false,
     "tableResultSettingsMap": {},
     "title": ""
    }
   },
   "outputs": [],
   "source": []
  }
 ],
 "metadata": {
  "application/vnd.databricks.v1+notebook": {
   "computePreferences": null,
   "dashboards": [],
   "environmentMetadata": {
    "base_environment": "",
    "environment_version": "3"
   },
   "inputWidgetPreferences": null,
   "language": "python",
   "notebookMetadata": {
    "pythonIndentUnit": 4
   },
   "notebookName": "04_AIAgent_CloudDeployment",
   "widgets": {}
  },
  "language_info": {
   "name": "python"
  }
 },
 "nbformat": 4,
 "nbformat_minor": 0
}